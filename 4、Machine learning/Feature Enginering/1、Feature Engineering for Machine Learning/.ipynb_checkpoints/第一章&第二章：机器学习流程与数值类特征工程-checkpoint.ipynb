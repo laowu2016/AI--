{
 "cells": [
  {
   "cell_type": "markdown",
   "metadata": {},
   "source": [
    "# 第一章：机器学习流程\n",
    "- 特征：\n",
    "> - 特征和模型相关联，有些模型更适合使用某种类型的特征，反之亦然。\n",
    "> - 正确的特征应该适合当前的任务，并易于被模型所使用。特征工程就是在给定数据、模型和任务的情况下设计出最合适的特征的过程。\n",
    "> - 特征数量十分重要：\n",
    ">> - 如果没有足够的有信息量的特征，那么模型将不能完成最终的任务。\n",
    ">> - 如果特征过多，或者多数特征不合适，那么模型将很难训练而且训练成本高昂。在训练过程中可能会出现一些影响模型性能的错误。\n",
    ">> - 好的特征可以使随后的建模步骤更容易，最后得出的模型也更能完成所需的任务。坏的特征要想达到同等性能，则需要复杂得多的模型。\n",
    ">> - 好的特征不仅能够表示出数据的主要特点，还应该符合模型的假设，因此通常必须进行数据转换。"
   ]
  },
  {
   "cell_type": "markdown",
   "metadata": {},
   "source": [
    "# 第二章：简单而又奇妙的数值\n",
    "- 数据合理性检查\n",
    "> - **数据量级**：我们只需知道它是正的还是负的，还是只需在一个很粗的粒度上知道它的量级？\n",
    "> - **特征尺度**：它的最大值和最小值是多少？是否横跨多个数量级？\n",
    ">> - 如果模型是输入特征的平滑函数，那么它对输入的尺度是非常敏感的。例如**线性函数，k-均值聚类、最近邻方法、径向基核函数，以及所有使用欧氏距离的方法都属于这种情况**。对于这类模型和模型成分，**通常需要对特征进行标准化**，以便将输出控制在期望的范围之内。\n",
    ">> - 相反，**逻辑函数对输入特征的尺度并不敏感**。无论输入如何，这种函数的输出总是一个二值变量。决策树模型中使用了输入特征的**阶梯函数**，因此，基于空间分割树的模型**（决策树、梯度提升机、随机森林）**对尺度是不敏感的。**唯一的例外是，如果输入的尺度是随时间变化的，也就是说如果特征是某种累计值，那么它最终可能会超出训练树的取值范围。如果出现了这种情况，就必须定期地对输入尺度进行调整；另外一种解决方案是使用区间计数方法。**\n",
    "> - **特征分布**：数值型特征的分布也非常重要，这种分布可以表示出一个特定值出现的概率。输入特征的分布对于某些模型来说比其他模型更重要。\n",
    ">> - 例如，**线性回归**模型的训练过程需要假定预测误差**近似地服从高斯分布**。这种假定通常是没有问题的，除了预测目标分布在多个数量级中的时候,在这种情况下，误差符合高斯分布的假定将不会被满足。一种解决方法是对输出目标进行转换，以消除数量级带来的影响。（严格说来，这应该称为目标工程，而不是特征工程。）对数变换（指数变换的一种特殊形式）可以使变量的分布更加接近于高斯分布。\n",
    "> - **特征组合**:除了对特征进行转换以满足模型或训练过程中的假设，还可以将多个特征组合在一起形成更复杂的特征。我们希望复杂特征能更加简洁地捕获到原始数据中的重要信息。使输入特征“更具信息量”可以使模型本身更简单，更容易训练和评价，也能做出更好的预测。极端情况下，我们可以使用统计模型的输出作为复杂特征，这种思想称为模型堆叠"
   ]
  },
  {
   "cell_type": "markdown",
   "metadata": {},
   "source": [
    "## 处理计数\n",
    "- 在大数据时代，计数数据可以无限度地快速增长。用户可以无数次地重复播放一首歌曲或一部电影，也可以使用脚本反复地检查一个热门演出是否有余票，这都可以使播放计数和网站访问计数快速增长。**当数据被大量且快速地生成时，很有可能包含一些极端值,这时就应该检查数据的*尺度***\n",
    "> - 确定是应该保留数据原始的数值形式\n",
    "> - 还是应该将它们转换成二值数据\n",
    "> - 或者进行粗粒度的分箱操作。"
   ]
  },
  {
   "cell_type": "markdown",
   "metadata": {},
   "source": [
    "### 二值化\n",
    "- Echo Nest Taste Profile 是百万歌曲数据集（Million Song Dataset）的正式用户数据子集，其中包含了 100 万用户在 Echo Nest 网站上完整的音乐收听历史。假设我们的任务是创建一个向用户推荐歌曲的推荐器，它的一个功能是预测某个用户喜欢某首歌曲的程度。既然数据中包含了实际的收听次数，那么可以用它作为预测的目标变量吗？\n",
    "> - 如果高收听次数意味着用户真的喜欢这首歌，低收听次数意味着用户对这首歌不感兴趣，那么就可以用它作为目标变量。\n",
    "> - 但是，数据表明，尽管 99% 的收听次数是 24 或更低，还是有一些收听次数达到了几千，最大值是 9667。这些值高得离谱，如果我们试图去预测实际的收听次数，**模型会被这些异常值严重带偏**。\n",
    "> - 在百万歌曲数据集中，原始的收听次数并不是衡量用户喜好的强壮指标。（在统计学术语中，“强壮”意味着该方法适用于各种情况。）不同的用户有不同的收听习惯，有些人会无限循环地播放他们最喜欢的歌曲，有些人则只是在特定情形下欣赏音乐。我们不能认为收听了某首歌曲 20 次的人喜欢该歌曲的程度肯定是收听了 10 次的人的两倍。\n",
    "> - 更强壮的用户偏好表示方法是将收听次数二值化，把所有大于 1 的次数值设为 1, 换言之，如果用户收听了某首歌曲至少一次，那么就认为该用户喜欢该歌曲。这样，模型就不用花费开销来预测原始收听次数之前的时间差别。二值目标变量是一个既简单又强壮的用户偏好衡量指标。\n",
    "> - 这是一个对模型的目标变量进行处理的例子。严格说来，目标变量不是特征，因为它不是输入。**但为了正确地解决问题，有时候确实需要修改目标变量。**\n",
    "> - **总结：**如果某个特征存在量级上的巨大差异，而A量级与B量级上的值具有不同的含义，并且B或者A量级内所代表的含义近似，就可以考虑使用二值化，例如：用户收听次数，A量级为0，代表用户不喜欢；B量级为大于0的值，代表用户喜欢。"
   ]
  },
  {
   "cell_type": "markdown",
   "metadata": {},
   "source": [
    "### 区间化向量（分箱）"
   ]
  },
  {
   "cell_type": "markdown",
   "metadata": {},
   "source": [
    "#### 固定宽度分箱"
   ]
  },
  {
   "cell_type": "markdown",
   "metadata": {},
   "source": [
    "- 1) 原始的点评数量**横跨了若干个数量级**，这对很多模型来说都是个问题。\n",
    "> - 在线性模型中，同一线性系数应该对所有可能的计数值起作用。过大的计数值对无监督学习方法也会造成破坏\n",
    "> - 比如 k-均值聚类，它使用欧氏距离作为相似度函数来测量数据点之间的相似度。数据向量某个元素中过大的计数值对相似度的影响会远超其他元素，从而破坏整体的相似度测量。\n",
    "- 2) 解决方法：\n",
    "> - 一种解决方法是对计数值进行区间量化，然后使用量化后的结果。换言之，我们将点评数量分到多个箱子里面，去掉实际的计数值。区间量化可以将连续型数值映射为离散型数值，我们可以将这种离散型数值看作一种有序的分箱序列，它表示的是对密度的测量。为了对数据进行区间量化，必须确定每个分箱的宽度。有两种确定分箱宽度的方法：**固定宽度分箱和自适应分箱。**\n",
    ">> - **固定宽度分箱：**,每个分箱中会包含一个具体范围内的数值。这些范围可以人工定制，也可以通过自动分段来生成，它们可以是线性的，也可以是指数性的:\n",
    ">>> - 例如，我们可以按10 年为一段来将人员划分到多个年龄范围中：0~9 岁的在分箱 1 中、10~19 岁的在分箱 2中，等等。要将计数值映射到分箱，只需用计数值除以分箱的宽度，然后取整数部分。\n",
    ">>> - 我们也经常使用人工设计的年龄范围，它可以更好地反映出生命阶段，例如:\n",
    ">>>> - 0~12 岁\n",
    ">>>> - 12~17 岁\n",
    ">>>> - 18~24 岁\n",
    ">>>> - 25~34 岁\n",
    ">>>> - 35~44 岁\n",
    ">>>> - ...\n",
    ">>>> - 75 岁以上\n",
    ">> - **横跨多个数量级的分箱：**当数值横跨多个数量级时，最好按照 10 的幂（或任何常数的幂）来进行分组：0~9、10~99、100~999、1000~9999，等等。这时分箱宽度是呈指数增长的，从 O(10) 到 O(100)、 O(1000) 以及更大。要将计数值映射到分箱，需要取计数值的对数。指数宽度分箱与对数变换的关系非常紧密"
   ]
  },
  {
   "cell_type": "code",
   "execution_count": 1,
   "metadata": {},
   "outputs": [],
   "source": [
    "import pandas as pd\n",
    "import numpy as np"
   ]
  },
  {
   "cell_type": "code",
   "execution_count": 2,
   "metadata": {},
   "outputs": [
    {
     "name": "stdout",
     "output_type": "stream",
     "text": [
      "分箱前的数据： [32 81  9 80 85 17 26 23 82 23 83 28  2 28 92 76 81 23 80 35]\n",
      "分箱后的数据： [3 8 0 8 8 1 2 2 8 2 8 2 0 2 9 7 8 2 8 3]\n"
     ]
    }
   ],
   "source": [
    "## 固定宽度分箱：\n",
    "# 1）手工分箱，例如年龄，见上文\n",
    "# 2）固定宽度分箱例子\n",
    "small_count = np.random.randint(0,100,20)\n",
    "print(\"分箱前的数据：\",small_count)\n",
    "# 通过除法映射到间隔均匀的分箱中，每个分箱的取值范围都是0~9\n",
    "result = np.floor_divide(small_count, 10)\n",
    "print(\"分箱后的数据：\", result)"
   ]
  },
  {
   "cell_type": "code",
   "execution_count": 5,
   "metadata": {},
   "outputs": [
    {
     "name": "stdout",
     "output_type": "stream",
     "text": [
      "分箱前的数据： [296, 8286, 64011, 80, 3, 725, 867, 2215, 7689, 11495, 91897, 44, 28, 7971, 926, 122, 22222]\n",
      "分箱后的数据： [2. 3. 4. 1. 0. 2. 2. 3. 3. 4. 4. 1. 1. 3. 2. 2. 4.]\n"
     ]
    }
   ],
   "source": [
    "# 3) 横跨若干个数量级的分箱\n",
    "large_count = [296, 8286, 64011, 80, 3, 725, 867, 2215, 7689, 11495, 91897, 44, 28, 7971, 926, 122, 22222]\n",
    "print(\"分箱前的数据：\", large_count)\n",
    "result = np.floor(np.log10(large_count))\n",
    "print(\"分箱后的数据：\", result)"
   ]
  },
  {
   "cell_type": "markdown",
   "metadata": {},
   "source": [
    "#### 分位数分箱\n",
    "- 固定宽度分箱非常容易计算，**但如果计数值中有比较大的缺口，就会产生很多没有任何数据的空箱子**。根据数据的分布特点，进行自适应的箱体定位，就可以解决这个问题。这种方法可以使用数据分布的分位数来实现。"
   ]
  },
  {
   "cell_type": "code",
   "execution_count": 2,
   "metadata": {},
   "outputs": [],
   "source": [
    "import matplotlib.pyplot as plt\n",
    "import seaborn as sns"
   ]
  },
  {
   "cell_type": "code",
   "execution_count": 12,
   "metadata": {},
   "outputs": [],
   "source": [
    "cut_box_num = np.random.randint(0,10000,100000)"
   ]
  },
  {
   "cell_type": "code",
   "execution_count": 23,
   "metadata": {},
   "outputs": [
    {
     "data": {
      "text/html": [
       "<div>\n",
       "<style scoped>\n",
       "    .dataframe tbody tr th:only-of-type {\n",
       "        vertical-align: middle;\n",
       "    }\n",
       "\n",
       "    .dataframe tbody tr th {\n",
       "        vertical-align: top;\n",
       "    }\n",
       "\n",
       "    .dataframe thead th {\n",
       "        text-align: right;\n",
       "    }\n",
       "</style>\n",
       "<table border=\"1\" class=\"dataframe\">\n",
       "  <thead>\n",
       "    <tr style=\"text-align: right;\">\n",
       "      <th></th>\n",
       "      <th>0</th>\n",
       "    </tr>\n",
       "  </thead>\n",
       "  <tbody>\n",
       "    <tr>\n",
       "      <th>0.1</th>\n",
       "      <td>1009.0</td>\n",
       "    </tr>\n",
       "    <tr>\n",
       "      <th>0.2</th>\n",
       "      <td>2003.0</td>\n",
       "    </tr>\n",
       "    <tr>\n",
       "      <th>0.3</th>\n",
       "      <td>3002.0</td>\n",
       "    </tr>\n",
       "    <tr>\n",
       "      <th>0.4</th>\n",
       "      <td>3998.0</td>\n",
       "    </tr>\n",
       "    <tr>\n",
       "      <th>0.5</th>\n",
       "      <td>4976.5</td>\n",
       "    </tr>\n",
       "    <tr>\n",
       "      <th>0.6</th>\n",
       "      <td>5974.0</td>\n",
       "    </tr>\n",
       "    <tr>\n",
       "      <th>0.7</th>\n",
       "      <td>7001.0</td>\n",
       "    </tr>\n",
       "    <tr>\n",
       "      <th>0.8</th>\n",
       "      <td>7995.0</td>\n",
       "    </tr>\n",
       "    <tr>\n",
       "      <th>0.9</th>\n",
       "      <td>8989.0</td>\n",
       "    </tr>\n",
       "  </tbody>\n",
       "</table>\n",
       "</div>"
      ],
      "text/plain": [
       "          0\n",
       "0.1  1009.0\n",
       "0.2  2003.0\n",
       "0.3  3002.0\n",
       "0.4  3998.0\n",
       "0.5  4976.5\n",
       "0.6  5974.0\n",
       "0.7  7001.0\n",
       "0.8  7995.0\n",
       "0.9  8989.0"
      ]
     },
     "execution_count": 23,
     "metadata": {},
     "output_type": "execute_result"
    }
   ],
   "source": [
    "# 十分位数\n",
    "q = [.1, .2, .3, .4, .5, .6, .7, .8, .9]\n",
    "pd.DataFrame(cut_box_num).quantile(q)"
   ]
  },
  {
   "cell_type": "markdown",
   "metadata": {},
   "source": [
    "- pandas.qcut 可以将数据映射为所需的分位数值。"
   ]
  },
  {
   "cell_type": "code",
   "execution_count": 27,
   "metadata": {},
   "outputs": [
    {
     "data": {
      "text/plain": [
       "[(122.0, 926.0], (926.0, 8286.0], (8286.0, 91897.0], (2.999, 122.0], (2.999, 122.0], ..., (2.999, 122.0], (926.0, 8286.0], (122.0, 926.0], (2.999, 122.0], (8286.0, 91897.0]]\n",
       "Length: 17\n",
       "Categories (4, interval[float64]): [(2.999, 122.0] < (122.0, 926.0] < (926.0, 8286.0] < (8286.0, 91897.0]]"
      ]
     },
     "execution_count": 27,
     "metadata": {},
     "output_type": "execute_result"
    }
   ],
   "source": [
    "pd.qcut(large_count, 4)"
   ]
  },
  {
   "cell_type": "markdown",
   "metadata": {},
   "source": [
    "## 对数变换\n",
    "- 函数 $log_{10}(x)$ 可以将区间 [1, 10] 映射到[0, 1]，将 [10, 100] 映射到 [1, 2]，以此类推。换言之，**对数函数可以对大数值的范围进行压缩，对小数值的范围进行扩展。x 越大，log(x) 增长得越慢。** "
   ]
  },
  {
   "cell_type": "markdown",
   "metadata": {},
   "source": [
    "- 对于具有重尾分布的正数值的处理，对数变换是一个非常强大的工具（与高斯分布相比，重尾分布的概率质量更多地位于尾部。）它压缩了分布高端的长尾，使之成为较短的尾部，并将低端扩展为更长的头部。"
   ]
  },
  {
   "cell_type": "code",
   "execution_count": 37,
   "metadata": {},
   "outputs": [],
   "source": [
    "# lognormal是重尾分布函数族中的一个函数\n",
    "mu, sigma = 3., 1.\n",
    "s = np.random.lognormal(mu, sigma, 1000)"
   ]
  },
  {
   "cell_type": "code",
   "execution_count": 43,
   "metadata": {},
   "outputs": [
    {
     "data": {
      "image/png": "[encoded data removed]",
      "text/plain": [
       "<Figure size 432x288 with 1 Axes>"
      ]
     },
     "metadata": {},
     "output_type": "display_data"
    }
   ],
   "source": [
    "count, bins, ignored = plt.hist(s, 100, density=True, align=\"mid\")"
   ]
  },
  {
   "cell_type": "markdown",
   "metadata": {},
   "source": [
    "- 重尾分布族如下：\n",
    "![image](https://images2015.cnblogs.com/blog/798706/201612/798706-20161224131955167-1990665816.png)"
   ]
  },
  {
   "cell_type": "markdown",
   "metadata": {},
   "source": [
    "- 对重尾分布进行对数变换后的情况"
   ]
  },
  {
   "cell_type": "code",
   "execution_count": 45,
   "metadata": {},
   "outputs": [],
   "source": [
    "c = np.log10(s)"
   ]
  },
  {
   "cell_type": "code",
   "execution_count": 48,
   "metadata": {},
   "outputs": [
    {
     "data": {
      "image/png": "[encoded data removed]",
      "text/plain": [
       "<Figure size 432x288 with 1 Axes>"
      ]
     },
     "metadata": {},
     "output_type": "display_data"
    }
   ],
   "source": [
    "count, bins, ignored = plt.hist(c, 100, density=True, align=\"mid\")"
   ]
  },
  {
   "cell_type": "markdown",
   "metadata": {},
   "source": [
    "- **注意：**通过上述变换，重尾分布的图像更符合高斯分布了，这样的特征对某些模型更加实用"
   ]
  },
  {
   "cell_type": "markdown",
   "metadata": {},
   "source": [
    "### 对数变换实战\n",
    "- 参考原书"
   ]
  },
  {
   "cell_type": "markdown",
   "metadata": {},
   "source": [
    "### 指数变换\n",
    "- **指数变换是个变换族**，对数变换只是它的一个**特例**。用统计学术语来说，它们都是**方差稳定化变换。**\n",
    "- 为什么方差稳定是个好性质，可以考虑一下泊松分布。\n",
    "- 泊松分布是一种重尾分布，它的方差等于它的均值。因此，它的质心越大，方差就越大，重尾程度也越大。指数变换可以改变变量的分布，使得方差不再依赖于均值。例如，假设一个随机变量X 具有泊松分布，如果通过取它的平方根对它进行变换，那么 $\\hat x  = \\sqrt{(x)}$的方差就近似是一个常数，而不是与均值相等。\n",
    "- λ 表示泊松分布的均值。当 λ 变大时，不仅整个分布模式向右移动，质量也更加分散，方差随之变大。"
   ]
  },
  {
   "cell_type": "code",
   "execution_count": 30,
   "metadata": {
    "scrolled": true
   },
   "outputs": [
    {
     "data": {
      "image/png": "[encoded data removed]",
      "text/plain": [
       "<Figure size 432x288 with 1 Axes>"
      ]
     },
     "metadata": {},
     "output_type": "display_data"
    },
    {
     "data": {
      "image/png": "[encoded data removed]",
      "text/plain": [
       "<Figure size 432x288 with 1 Axes>"
      ]
     },
     "metadata": {},
     "output_type": "display_data"
    },
    {
     "data": {
      "image/png": "[encoded data removed]",
      "text/plain": [
       "<Figure size 432x288 with 1 Axes>"
      ]
     },
     "metadata": {},
     "output_type": "display_data"
    }
   ],
   "source": [
    "lambd1 = [1,4,10]\n",
    "for i in lambd1:\n",
    "    poisson1 = np.random.poisson(i, size=10000)\n",
    "    count, bins, ignored = plt.hist(poisson1, 14, density=True)\n",
    "    plt.title(\"lambda = %d\"%i)\n",
    "    plt.show()"
   ]
  },
  {
   "cell_type": "markdown",
   "metadata": {},
   "source": [
    "### Box-Cox变换"
   ]
  },
  {
   "cell_type": "markdown",
   "metadata": {},
   "source": [
    "- 平方根变换和对数变换都可以简单推广为 Box-Cox 变换(**Box-Cox假定所有输入数据都是正的**)：\n",
    "$\\hat x = \\left\\{\\begin{array} \\\\\\frac{x^\\lambda-1}{\\lambda} \\ \\ ({\\lambda \\neq 0});\\\\{ln(x)} \\ \\ (\\lambda = 0); \\end{array}\\right.$\n",
    "\n",
    "- 图 2-12 展示了 λ = 0（对数变换）、λ = 0.25、λ = 0.5（平方根变换的一种缩放和平移形式）、λ = 0.75 和 λ = 1.5 时的 Box-Cox 变换。**λ 小于 1 时，可以压缩高端值；λ 大于 1 时，起的作用是相反的。**"
   ]
  },
  {
   "cell_type": "code",
   "execution_count": 71,
   "metadata": {},
   "outputs": [],
   "source": [
    "from scipy import stats"
   ]
  },
  {
   "cell_type": "code",
   "execution_count": 37,
   "metadata": {},
   "outputs": [],
   "source": [
    "def Box_Cox(x, lambd):\n",
    "    if lambd == 0:\n",
    "        return np.log(x)\n",
    "    else:\n",
    "        return ((np.power(x, lambd)-1)-1)/lambd"
   ]
  },
  {
   "cell_type": "code",
   "execution_count": 87,
   "metadata": {},
   "outputs": [],
   "source": [
    "a = np.linspace(start=0.001, stop=3, num=100)"
   ]
  },
  {
   "cell_type": "code",
   "execution_count": 88,
   "metadata": {},
   "outputs": [],
   "source": [
    "lambd0 = stats.boxcox(a, 0)\n",
    "lambd025 = stats.boxcox(a, 0.25)\n",
    "lambd05 = stats.boxcox(a, 0.5)\n",
    "lambd075 = stats.boxcox(a, 0.75)\n",
    "# lambd15 = stats.boxcox(a, 1.5)\n",
    "lambd3 = stats.boxcox(a, 3)"
   ]
  },
  {
   "cell_type": "code",
   "execution_count": 94,
   "metadata": {},
   "outputs": [
    {
     "data": {
      "text/plain": [
       "<matplotlib.legend.Legend at 0xd6252b0>"
      ]
     },
     "execution_count": 94,
     "metadata": {},
     "output_type": "execute_result"
    },
    {
     "data": {
      "image/png": "[encoded data removed]",
      "text/plain": [
       "<Figure size 1440x720 with 1 Axes>"
      ]
     },
     "metadata": {},
     "output_type": "display_data"
    }
   ],
   "source": [
    "plt.figure(figsize=(20,10))\n",
    "lines = plt.plot(a, lambd0, a, lambd025, a, lambd05, a, lambd075, a, lambd3)\n",
    "plt.setp(lines[0], linestyle=\"-\")\n",
    "plt.setp(lines[1], linestyle=\"--\")\n",
    "plt.setp(lines[2], linestyle=\"-.\")\n",
    "plt.setp(lines[3], linestyle=\":\")\n",
    "plt.setp(lines[4], linestyle=\"-\")\n",
    "plt.legend((\"lambda=0\", \"lambda=0.25\", \"lambda=0.5\", \"lambda=0.75\", \"lambda=3\"),loc=\"upper left\")"
   ]
  },
  {
   "cell_type": "markdown",
   "metadata": {},
   "source": [
    "- 案例：初始、对数变换后和 Box-Cox 变换后的直方图可视化(更明显的对比可以查看书籍，里面可以看到对数变换和boxcox变换的明显区别)"
   ]
  },
  {
   "cell_type": "code",
   "execution_count": 109,
   "metadata": {},
   "outputs": [
    {
     "data": {
      "image/png": "[encoded data removed]",
      "text/plain": [
       "<Figure size 432x288 with 1 Axes>"
      ]
     },
     "metadata": {},
     "output_type": "display_data"
    }
   ],
   "source": [
    "# 初始图像\n",
    "mu, sigma = 10., 1.\n",
    "s = np.random.lognormal(mu, sigma, 1000)\n",
    "count, bins, ignored = plt.hist(s, 100, density=True, align=\"mid\")"
   ]
  },
  {
   "cell_type": "code",
   "execution_count": 110,
   "metadata": {},
   "outputs": [
    {
     "data": {
      "image/png": "[encoded data removed]",
      "text/plain": [
       "<Figure size 432x288 with 1 Axes>"
      ]
     },
     "metadata": {},
     "output_type": "display_data"
    }
   ],
   "source": [
    "# 对数变换后的图像\n",
    "# 设置输入参数λ为0，使用对数变换（没有固定长度的位移）。\n",
    "s1 = stats.boxcox(s, lmbda=0)\n",
    "count, bins, ignored = plt.hist(s1, 100, density=True, align=\"mid\")"
   ]
  },
  {
   "cell_type": "code",
   "execution_count": 111,
   "metadata": {},
   "outputs": [
    {
     "name": "stdout",
     "output_type": "stream",
     "text": [
      "bc_params =  -0.031707915111213195\n"
     ]
    },
    {
     "data": {
      "image/png": "[encoded data removed]",
      "text/plain": [
       "<Figure size 432x288 with 1 Axes>"
      ]
     },
     "metadata": {},
     "output_type": "display_data"
    }
   ],
   "source": [
    "# 默认情况下，SciPy在实现Box-Cox转换时，会找出使得输出最接近于正态分布的λ参数。\n",
    "s2, bc_params = stats.boxcox(s)\n",
    "print(\"bc_params = \", bc_params)\n",
    "count, bins, ignored = plt.hist(s2, 100, density=True, align=\"mid\")"
   ]
  },
  {
   "cell_type": "code",
   "execution_count": null,
   "metadata": {},
   "outputs": [],
   "source": []
  }
 ],
 "metadata": {
  "kernelspec": {
   "display_name": "Python [default]",
   "language": "python",
   "name": "python3"
  },
  "language_info": {
   "codemirror_mode": {
    "name": "ipython",
    "version": 3
   },
   "file_extension": ".py",
   "mimetype": "text/x-python",
   "name": "python",
   "nbconvert_exporter": "python",
   "pygments_lexer": "ipython3",
   "version": "3.5.5"
  },
  "toc": {
   "base_numbering": 1,
   "nav_menu": {},
   "number_sections": true,
   "sideBar": true,
   "skip_h1_title": false,
   "title_cell": "Table of Contents",
   "title_sidebar": "Contents",
   "toc_cell": false,
   "toc_position": {},
   "toc_section_display": true,
   "toc_window_display": true
  }
 },
 "nbformat": 4,
 "nbformat_minor": 2
}
