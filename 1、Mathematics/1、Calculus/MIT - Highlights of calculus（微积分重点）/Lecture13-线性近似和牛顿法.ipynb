{
 "cells": [
  {
   "cell_type": "markdown",
   "metadata": {},
   "source": [
    "# 本节主要内容\n",
    "- 本节课主要讲导数的两则应用\n",
    ">- 求函数f在x点的近似值f(x)$at x=a ;\\frac{df}{dx}=f'(a) \\approx lim_{x->a}\\frac{f(x)-f(a)}{x-a};f(x)\\approx f(a)+(x-a)f'(a)$。（线性近似）\n",
    ">- 解方程F(X)=0。$F(x)=0,以上式子可以换成x-a\\approx -\\frac{F(a)}{F'(a)}$（牛顿法）"
   ]
  },
  {
   "cell_type": "markdown",
   "metadata": {},
   "source": [
    "- 线性近似的例子\n",
    ">- 例子1：求平方根$\\sqrt{9.06}$的值，如果直接求9.06的平方根显然不好求，利用线性近似的公式，1）首先求出函数$f(x)=\\sqrt{x}$的导数$f'=\\frac{1}{2\\sqrt{x}}$2)其次，找出离9.06很近，但是又很好求平方根的点9，取a=9，即$f(a)=\\sqrt{9}=3;f'(a)=\\frac{1}{2*\\sqrt{9}}=\\frac{1}{6}$3)利用线性近似求值$\\sqrt{9.06} \\approx f(a)+(x-a)f'(a)=3+(9.06-9)\\frac{1}{6}=3.01$\n",
    ">- 为何说以上例子是线性近似：因为其实以上式子是利用函数f(x)在x=9这一点的切线近似的算出x=9.06时的值\n",
    ">- 例子2: 求$e^{0.01}$的值，1）首先求出函数$f(x)=e^x$的导数$f'=e^x;x=0.01,取a=0,则有f(a)=f(0)=e^0=1;f'(a)=f'(0)=e^0=1;e^x \\approx 1+(x-0)1=1+x=1.01$"
   ]
  },
  {
   "cell_type": "markdown",
   "metadata": {},
   "source": [
    "- 牛顿法的例子\n",
    ">- 求平方根$\\sqrt{9.06}$的值,根据牛顿法，令$F(x)=x^2-9.06=0,令a=3,则有F(a)=9-9.06=-0.06;F'(a)=2a=6;x\\approx -\\frac{F(a)}{F'(a)}+a=0.01+3=3.01$\n",
    ">- 进行第二次牛顿法：$F(x)=x^2-9.06=0;令a=3.01,则有F(a)=0.0001,F'(a)=2a=6.02;根据牛顿法有:x-3.01=\\frac{-0.0001}{6.02}->x=3.00998;x^2\\approx 9.0600000002$\n",
    ">- 多次使用牛顿法，可以得到十分准确的值"
   ]
  },
  {
   "cell_type": "code",
   "execution_count": null,
   "metadata": {},
   "outputs": [],
   "source": []
  }
 ],
 "metadata": {
  "kernelspec": {
   "display_name": "Python [default]",
   "language": "python",
   "name": "python3"
  },
  "language_info": {
   "codemirror_mode": {
    "name": "ipython",
    "version": 3
   },
   "file_extension": ".py",
   "mimetype": "text/x-python",
   "name": "python",
   "nbconvert_exporter": "python",
   "pygments_lexer": "ipython3",
   "version": "3.5.5"
  },
  "toc": {
   "base_numbering": 1,
   "nav_menu": {},
   "number_sections": true,
   "sideBar": true,
   "skip_h1_title": false,
   "title_cell": "Table of Contents",
   "title_sidebar": "Contents",
   "toc_cell": false,
   "toc_position": {},
   "toc_section_display": true,
   "toc_window_display": false
  }
 },
 "nbformat": 4,
 "nbformat_minor": 2
}
