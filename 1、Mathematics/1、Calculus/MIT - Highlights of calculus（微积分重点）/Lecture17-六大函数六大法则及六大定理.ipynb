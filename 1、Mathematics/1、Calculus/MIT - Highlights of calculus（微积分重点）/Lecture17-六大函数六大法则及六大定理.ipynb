{
 "cells": [
  {
   "cell_type": "markdown",
   "metadata": {},
   "source": [
    "# 六大函数六大法则及六大定理\n",
    "6函数|6法则（导数）|6定理\n",
    "-|-|-\n",
    "$x^n$|$nx^{n-1}$|-\n",
    "$sinx$|$conx$|\n",
    "$cosx$|$-sinx$|\n",
    "$e^{cx}$|$ce^{cx}$|\n",
    "$lnx$|$\\frac{1}{x}$|"
   ]
  },
  {
   "cell_type": "markdown",
   "metadata": {},
   "source": [
    "- 本节主要总结了一些常用的公式，这些公式在之前的课程中都已经记录过"
   ]
  },
  {
   "cell_type": "code",
   "execution_count": null,
   "metadata": {},
   "outputs": [],
   "source": []
  }
 ],
 "metadata": {
  "kernelspec": {
   "display_name": "Python [default]",
   "language": "python",
   "name": "python3"
  },
  "language_info": {
   "codemirror_mode": {
    "name": "ipython",
    "version": 3
   },
   "file_extension": ".py",
   "mimetype": "text/x-python",
   "name": "python",
   "nbconvert_exporter": "python",
   "pygments_lexer": "ipython3",
   "version": "3.5.5"
  },
  "toc": {
   "base_numbering": 1,
   "nav_menu": {},
   "number_sections": true,
   "sideBar": true,
   "skip_h1_title": false,
   "title_cell": "Table of Contents",
   "title_sidebar": "Contents",
   "toc_cell": false,
   "toc_position": {},
   "toc_section_display": true,
   "toc_window_display": false
  }
 },
 "nbformat": 4,
 "nbformat_minor": 2
}
