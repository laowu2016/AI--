{
 "cells": [
  {
   "cell_type": "code",
   "execution_count": 1,
   "metadata": {},
   "outputs": [],
   "source": [
    "import numpy as np\n",
    "import matplotlib.pyplot as plt\n",
    "import seaborn as sns"
   ]
  },
  {
   "cell_type": "markdown",
   "metadata": {},
   "source": [
    "# 第二课：导数总览"
   ]
  },
  {
   "cell_type": "markdown",
   "metadata": {},
   "source": [
    "## Big Picture：Derivatives"
   ]
  },
  {
   "cell_type": "markdown",
   "metadata": {},
   "source": [
    "1. Relationship Between Function\n",
    "    - Distance & Speed\n",
    "    - Height & Slope\n",
    "\n",
    "2. Slope of the greate functions of calculus\n",
    "    - $y=x^2$\n",
    "    - $y=sin\\ x$\n",
    "    - $y=e^x$\n",
    "    \n",
    "3. Example 1: what does slope mean?\n",
    "    - $y=x^2$\n",
    "\n",
    "4. Example 2: what does slope mean?\n",
    "    - $y=sin\\ x$\n",
    "    - $\\frac{dy}{dx}=cos\\ x$"
   ]
  },
  {
   "cell_type": "markdown",
   "metadata": {},
   "source": [
    "- 垂直与水平的比就是斜率\n",
    "- 微积分关注的是瞬时的情况"
   ]
  },
  {
   "cell_type": "markdown",
   "metadata": {},
   "source": [
    "# 常见函数的导数"
   ]
  },
  {
   "cell_type": "markdown",
   "metadata": {},
   "source": [
    "- $y = x^n \\ \\ \\ \\ \\ \\ \\ \\ \\frac{dy}{dx}=nx^{(n-1)}$ 注意：n可以为负\n",
    "- $y = sin(x) \\ \\ \\ \\ \\frac{dy}{dx}=cos(x); \\ \\ y=cos(x) \\ \\ \\frac{dy}{dx}=-sin(x)$\n",
    "- $y = e^x \\ \\ \\ \\ \\ \\ \\ \\ \\frac{dy}{dx}=e^x$"
   ]
  },
  {
   "cell_type": "markdown",
   "metadata": {},
   "source": [
    "# 斜率的含义"
   ]
  },
  {
   "cell_type": "markdown",
   "metadata": {},
   "source": [
    "- 通过斜率等于0，可以求出最高点和最低点。"
   ]
  },
  {
   "cell_type": "code",
   "execution_count": 42,
   "metadata": {},
   "outputs": [
    {
     "data": {
      "image/png": "[encoded data removed]",
      "text/plain": [
       "<Figure size 432x288 with 1 Axes>"
      ]
     },
     "metadata": {},
     "output_type": "display_data"
    }
   ],
   "source": [
    "x = np.arange(1,100,1)\n",
    "y = x**2\n",
    "\n",
    "plt.plot(x,y)\n",
    "\n",
    "x_n = np.arange(40,60,1)\n",
    "y_n = np.zeros_like(x_n)+40**2\n",
    "plt.plot(x_n, y_n)\n",
    "\n",
    "y_n_n = np.arange(40**2, 60**2, 1)\n",
    "x_n_n = np.zeros_like(y_n_n)+60\n",
    "plt.plot(x_n_n, y_n_n)\n",
    "\n",
    "plt.text(40,1200,\"x\",size=15)\n",
    "plt.text(60,1200,\"x+△x\",size=15)\n",
    "plt.text(60,3600,\"(x+△x)²\",size=15)\n",
    "plt.text(50,1600,\"△x\",size=10,alpha=0.7)\n",
    "\n",
    "plt.show()"
   ]
  },
  {
   "cell_type": "markdown",
   "metadata": {},
   "source": [
    "- 如上图所示：$y=x^2$在x点的斜率的含义既是当$\\Delta x -> 0$时$\\frac{\\Delta y}{\\Delta x}$的取值\n",
    "- 如果$\\Delta x$不是趋近于0，那么$\\frac{\\Delta y}{\\Delta x}$其实是均值，但是如果当$\\Delta x -> 0$时便代表的是函数$y=x^2$在x点的斜率\n",
    "- $\\frac{dy}{dx}=lim_{x->\\Delta x} \\frac{\\Delta y}{\\Delta x} = lim_{x->\\Delta x}\\frac{(x+\\Delta x)^2-x^2}{\\Delta x} = lim_{x->\\Delta x}\\frac{x^2+2x\\Delta x+\\Delta x^2-x^2}{\\Delta x} = lim_{x->\\Delta x}2x+\\Delta x = 2x$"
   ]
  },
  {
   "cell_type": "code",
   "execution_count": 27,
   "metadata": {},
   "outputs": [],
   "source": []
  },
  {
   "cell_type": "code",
   "execution_count": null,
   "metadata": {},
   "outputs": [],
   "source": []
  }
 ],
 "metadata": {
  "kernelspec": {
   "display_name": "Python [default]",
   "language": "python",
   "name": "python3"
  },
  "language_info": {
   "codemirror_mode": {
    "name": "ipython",
    "version": 3
   },
   "file_extension": ".py",
   "mimetype": "text/x-python",
   "name": "python",
   "nbconvert_exporter": "python",
   "pygments_lexer": "ipython3",
   "version": "3.5.5"
  },
  "toc": {
   "base_numbering": 1,
   "nav_menu": {},
   "number_sections": true,
   "sideBar": true,
   "skip_h1_title": false,
   "title_cell": "Table of Contents",
   "title_sidebar": "Contents",
   "toc_cell": false,
   "toc_position": {},
   "toc_section_display": true,
   "toc_window_display": false
  }
 },
 "nbformat": 4,
 "nbformat_minor": 2
}
