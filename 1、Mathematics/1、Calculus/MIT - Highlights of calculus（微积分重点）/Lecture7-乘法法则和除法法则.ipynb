{
 "cells": [
  {
   "cell_type": "markdown",
   "metadata": {},
   "source": [
    "# 本节重点\n",
    "- 乘法法则\n",
    "\n",
    "复合函数：$p(x) = f(x)g(x)$\n",
    "\n",
    "复合函数导数：$\\frac{dp}{dx} = f(x)\\frac{dg}{dx} + g(x)\\frac{df}{dx}$\n",
    "\n",
    "- 导数幂法则\n",
    "\n",
    "$\\frac{d}{dx}x^n = nx^{n-1}$\n",
    "\n",
    "$\\frac{d}{dx}(f(x))^n = nf^{n-1}\\frac{df}{dx}$\n",
    "\n",
    "- 除法法则\n",
    "\n",
    "$q(x) = \\frac{f(x)}{g(x)}$\n",
    "\n",
    "$\\frac{dq}{dx} = \\frac{g(x)\\frac{df}{dx} - f(x)\\frac{dg}{dx}}{g^2(x)}$\n",
    "\n",
    "$\\frac{d}{dx}x^{-N} = -Nx^{-N-1}$"
   ]
  },
  {
   "cell_type": "code",
   "execution_count": null,
   "metadata": {},
   "outputs": [],
   "source": []
  }
 ],
 "metadata": {
  "kernelspec": {
   "display_name": "Python [default]",
   "language": "python",
   "name": "python3"
  },
  "language_info": {
   "codemirror_mode": {
    "name": "ipython",
    "version": 3
   },
   "file_extension": ".py",
   "mimetype": "text/x-python",
   "name": "python",
   "nbconvert_exporter": "python",
   "pygments_lexer": "ipython3",
   "version": "3.5.5"
  },
  "toc": {
   "base_numbering": 1,
   "nav_menu": {},
   "number_sections": true,
   "sideBar": true,
   "skip_h1_title": false,
   "title_cell": "Table of Contents",
   "title_sidebar": "Contents",
   "toc_cell": false,
   "toc_position": {},
   "toc_section_display": true,
   "toc_window_display": false
  }
 },
 "nbformat": 4,
 "nbformat_minor": 2
}
