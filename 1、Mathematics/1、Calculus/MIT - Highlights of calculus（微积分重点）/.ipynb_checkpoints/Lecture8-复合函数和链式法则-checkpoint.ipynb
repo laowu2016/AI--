{
 "cells": [
  {
   "cell_type": "markdown",
   "metadata": {},
   "source": [
    "# 本章重点"
   ]
  },
  {
   "cell_type": "markdown",
   "metadata": {},
   "source": [
    "- 复合函数如下：\n",
    "$f(g(x))$\n",
    "令$y = g(x); z=f(y)$\n",
    "则链式法则如下：$\\frac{dz}{dx} = \\frac{dz}{dy}*\\frac{dy}{dz}$\n",
    "\n",
    "- 例子1：\n",
    "求$sin(3x)$的导数\n",
    "令$y = 3x;z=sin(y)->\\frac{dz}{dx} = \\frac{dz}{dy}*\\frac{dy}{dx} = cos(y)*3 = 3cos(3x)$\n",
    "\n",
    "- 例子2：\n",
    "求$\\frac{1}{\\sqrt{1-x^2}}$的导数\n",
    "令$y = 1-x^2; z = y^{-\\frac{1}{2}}->\\frac{dz}{dx} = \\frac{dz}{dy}*\\frac{dy}{dx} = -\\frac{1}{2} y^{-\\frac{3}{2}}*(-2x) = x*y^{-\\frac{3}{2}} = \\frac{x}{(1-x^2)^\\frac{3}{2}}$\n",
    "\n",
    "- 例子3：\n",
    "求$z=e^{-\\frac{x^2}{2}}$的导数\n",
    "令$y=-\\frac{x^2}{2};z=e^y -> \\frac{dz}{dx} = (e^y)(-x) = -xe^{-\\frac{x^2}{2}}$\n",
    "\n",
    "- 更多公式查考：http://note.youdao.com/noteshare?id=da62ccf983b6c4a4f1e4b0d4b6b947dd&sub=59982A73ABDA4B028288404D9B079935\n",
    "有道笔记位置：同济大学高数"
   ]
  },
  {
   "cell_type": "code",
   "execution_count": null,
   "metadata": {},
   "outputs": [],
   "source": []
  }
 ],
 "metadata": {
  "kernelspec": {
   "display_name": "Python [default]",
   "language": "python",
   "name": "python3"
  },
  "language_info": {
   "codemirror_mode": {
    "name": "ipython",
    "version": 3
   },
   "file_extension": ".py",
   "mimetype": "text/x-python",
   "name": "python",
   "nbconvert_exporter": "python",
   "pygments_lexer": "ipython3",
   "version": "3.5.5"
  },
  "toc": {
   "base_numbering": 1,
   "nav_menu": {},
   "number_sections": true,
   "sideBar": true,
   "skip_h1_title": false,
   "title_cell": "Table of Contents",
   "title_sidebar": "Contents",
   "toc_cell": false,
   "toc_position": {},
   "toc_section_display": true,
   "toc_window_display": false
  }
 },
 "nbformat": 4,
 "nbformat_minor": 2
}
