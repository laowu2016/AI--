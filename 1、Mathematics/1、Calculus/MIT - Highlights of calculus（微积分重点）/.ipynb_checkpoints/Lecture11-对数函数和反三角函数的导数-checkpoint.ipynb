{
 "cells": [
  {
   "cell_type": "markdown",
   "metadata": {},
   "source": [
    "# 本节重点\n",
    "- 对数函数的导数\n",
    ">- 证明：$由于ln(e^x) = x$,$令y = e^x,对式子ln(e^x)=x两边同时求导得到：\\frac{d}{dy}ln(y)*\\frac{d}{dx}e^x = 1;\\frac{d}{dy}lny*e^x = 1;\\frac{d}{dy}lny=\\frac{1}{e^x};将e^x替换为y可得:\\frac{d}{dy}lny=\\frac{1}{y}$\n",
    ">- 将以上式子换个写法:$\\frac{d}{dx}lnx=\\frac{1}{x}$"
   ]
  },
  {
   "cell_type": "code",
   "execution_count": null,
   "metadata": {},
   "outputs": [],
   "source": []
  }
 ],
 "metadata": {
  "kernelspec": {
   "display_name": "Python [default]",
   "language": "python",
   "name": "python3"
  },
  "language_info": {
   "codemirror_mode": {
    "name": "ipython",
    "version": 3
   },
   "file_extension": ".py",
   "mimetype": "text/x-python",
   "name": "python",
   "nbconvert_exporter": "python",
   "pygments_lexer": "ipython3",
   "version": "3.5.5"
  },
  "toc": {
   "base_numbering": 1,
   "nav_menu": {},
   "number_sections": true,
   "sideBar": true,
   "skip_h1_title": false,
   "title_cell": "Table of Contents",
   "title_sidebar": "Contents",
   "toc_cell": false,
   "toc_position": {},
   "toc_section_display": true,
   "toc_window_display": false
  }
 },
 "nbformat": 4,
 "nbformat_minor": 2
}
