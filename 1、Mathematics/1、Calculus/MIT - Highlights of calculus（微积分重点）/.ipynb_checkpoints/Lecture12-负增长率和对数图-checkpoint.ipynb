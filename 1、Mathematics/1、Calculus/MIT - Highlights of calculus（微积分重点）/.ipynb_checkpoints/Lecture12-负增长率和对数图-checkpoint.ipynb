{
 "cells": [
  {
   "cell_type": "markdown",
   "metadata": {},
   "source": [
    "# 本节重点\n",
    "- 对数的应用\n",
    ">- 线性增长：$cx$\n",
    ">- 多项式增长：$x,x^2,x^3...$\n",
    ">- 指数增长：$2^x,e^x,10^x$\n",
    ">- 阶乘增长：$x!, x^x$\n",
    "- 讨论函数增长的快慢：\n",
    ">- $令x=1000=10^3$\n",
    ">- $x^2 = 10^6$\n",
    ">- $x^3 = 10^9$\n",
    ">- $2^x = 2^1000 = 10^{300}$\n",
    ">- $e^x = e^1000 = 10^{434}$\n",
    ">- $10^x = 10^{1000}$\n",
    ">- $x! = 10^{2566}$\n",
    ">- $x^x = 10^{3000}$\n",
    ">- 从以上可以看出，式子增长的速度越来越快，我们对以上式子分布取对数，可以得到以上式子对应的值分别为：3,6,9,300,434,1000,2566,3000.可以看出去对数后式子增长是很缓慢的，这也是为何在特征工程中选择使用对数函数改变原始的特征的方法的原因之一。\n",
    "\n",
    "- 对数尺度\n",
    ">- 对数尺度让大数和小数的处理更为方便,可以详细了解下，似乎在特征处理上有用"
   ]
  },
  {
   "cell_type": "markdown",
   "metadata": {},
   "source": [
    "- 最小二乘法非常重要，他是一个求最佳直线的微积分方法（本节课中，有提到最小二乘法）"
   ]
  },
  {
   "cell_type": "markdown",
   "metadata": {},
   "source": [
    "- 本课18分钟之后没有看懂"
   ]
  },
  {
   "cell_type": "code",
   "execution_count": null,
   "metadata": {},
   "outputs": [],
   "source": []
  }
 ],
 "metadata": {
  "kernelspec": {
   "display_name": "Python [default]",
   "language": "python",
   "name": "python3"
  },
  "language_info": {
   "codemirror_mode": {
    "name": "ipython",
    "version": 3
   },
   "file_extension": ".py",
   "mimetype": "text/x-python",
   "name": "python",
   "nbconvert_exporter": "python",
   "pygments_lexer": "ipython3",
   "version": "3.5.5"
  },
  "toc": {
   "base_numbering": 1,
   "nav_menu": {},
   "number_sections": true,
   "sideBar": true,
   "skip_h1_title": false,
   "title_cell": "Table of Contents",
   "title_sidebar": "Contents",
   "toc_cell": false,
   "toc_position": {},
   "toc_section_display": true,
   "toc_window_display": false
  }
 },
 "nbformat": 4,
 "nbformat_minor": 2
}
