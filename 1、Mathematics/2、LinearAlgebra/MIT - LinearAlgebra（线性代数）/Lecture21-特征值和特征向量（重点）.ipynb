{
 "cells": [
  {
   "cell_type": "markdown",
   "metadata": {},
   "source": [
    "# 特征向量和特征值\n",
    "- 将矩阵A与向量x相乘，当做是对x的一种操作或者函数，这个函数输入x而输出Ax。**特征向量**即在特定的向量x方向上输出的Ax平行于x，即为：$Ax=\\lambda x$,其中x为矩阵A的**特征向量**；而$\\lambda$为A的特征值。\n",
    "- 如果0为矩阵的特征值，则有$Ax=0x=0$。特征值0所对应的向量生成了矩阵零空间。如果矩阵A为不可逆矩阵，则零为其特征值之一"
   ]
  },
  {
   "cell_type": "markdown",
   "metadata": {},
   "source": [
    "## 例子1\n",
    "- 矩阵P是朝向某个平面的投影矩阵。对于这个平面之内的所有x，均有$Px=x$,因此x是特征向量，而1为特征值；垂直与该平面的向量x经过投影得到$Px=0$,这个x也为矩阵的特征向量，而0为矩阵的特征值。矩阵P的所有特征向量张成了整个空间。"
   ]
  },
  {
   "cell_type": "markdown",
   "metadata": {},
   "source": [
    "## 例子2\n",
    "- 交换矩阵$A=\\left[\\begin{matrix}0&1\\\\1&0 \\end{matrix}\\right]$具有特征向量$x=\\left[\\begin{matrix}1\\\\1\\end{matrix}\\right]$,对应的特征值为1；另一个特征向量$x=\\left[\\begin{matrix}1\\\\-1\\end{matrix}\\right]$,对应的特征值为-1。这些特征向量张成了整个空间。因为是对称矩阵，其特征向量互相垂直。"
   ]
  },
  {
   "cell_type": "markdown",
   "metadata": {},
   "source": [
    "## $det(A-\\lambda I)=0$"
   ]
  },
  {
   "cell_type": "markdown",
   "metadata": {},
   "source": [
    "- 任意$n\\times n$矩阵A具有n个特征值，**并且他们的和等于矩阵对角线上元素之和**，这个数值为矩阵的迹（trace），对于二阶矩阵，在已知一个特征值的条件下可以得到另一个特征值"
   ]
  },
  {
   "cell_type": "markdown",
   "metadata": {},
   "source": [
    "- 方程$Ax=\\lambda x$中，特征值和特征向量均未知，没法直接求解。因此我们做如下数学处理:对于$Ax=\\lambda x$，如果有$(A-\\lambda I)x=0$,则$A-\\lambda I$为奇异矩阵，有$det(A-\\lambda I)=0$。在这个没有x的方程中，可以解得n个特征值，但是有可能方程有重根，则会得到重复的特征值。\n",
    "- 得到特征值后，可以用消元法解$(A-\\lambda I)$,这一矩阵零空间中的向量为矩阵A的特征向量。\n",
    ">- 例如矩阵$A=\\left[\\begin{matrix} 3&1\\\\1&3 \\end{matrix}\\right]$，则$det(A-\\lambda I)=\\left[\\begin{matrix} 3-\\lambda&1\\\\1&3-\\lambda \\end{matrix}\\right] = (3-\\lambda)^2-1 = \\lambda^2-6\\lambda+8$。对于矩阵$A$,可以看到其迹6，而行列式为8；通过解方程$\\lambda^2-6\\lambda+8=0$可以得到$\\begin{cases} \\lambda_1=2 \\\\ \\lambda_2=4 \\end{cases}$,则可以得到，矩阵A的特征值为$\\begin{cases} \\lambda_1=2 \\\\ \\lambda_2=4 \\end{cases}$\n",
    ">- 通常一个2阶矩阵的特征值是如下方程的解:$\\lambda^2-trace(A)\\lambda+detA = 0$\n",
    ">- 求得特征值后，便可以求特征向量了，对于矩阵A，将特征值带入，有：\n",
    ">>- $A-\\lambda I=A-2I = \\left[\\begin{matrix} 3&1\\\\1&3 \\end{matrix}\\right] - 2\\left[\\begin{matrix} 1&0\\\\0&1 \\end{matrix}\\right]=\\left[\\begin{matrix} 1&1\\\\1&1 \\end{matrix}\\right]\\rightarrow (A-2I)x_1=0\\rightarrow x_1=\\left[\\begin{matrix} -1\\\\1 \\end{matrix}\\right]$\n",
    ">>- $A-\\lambda I=A-4I = \\left[\\begin{matrix} 3&1\\\\1&3 \\end{matrix}\\right] - 4\\left[\\begin{matrix} 1&0\\\\0&1 \\end{matrix}\\right]=\\left[\\begin{matrix} -1&1\\\\1&-1 \\end{matrix}\\right]\\rightarrow (A-4I)x_2=0\\rightarrow x_2=\\left[\\begin{matrix} 1\\\\1 \\end{matrix}\\right]$\n",
    ">- 与前例中的矩阵$A=\\left[\\begin{matrix} 0&1\\\\1&0 \\end{matrix}\\right]$的特征值向量相对比可以发现，两者为一组平移矩阵。在对角线元素上分别加3，改变了特征值，但是没有改变特征向量。"
   ]
  },
  {
   "cell_type": "code",
   "execution_count": null,
   "metadata": {},
   "outputs": [],
   "source": []
  }
 ],
 "metadata": {
  "kernelspec": {
   "display_name": "Python [default]",
   "language": "python",
   "name": "python3"
  },
  "language_info": {
   "codemirror_mode": {
    "name": "ipython",
    "version": 3
   },
   "file_extension": ".py",
   "mimetype": "text/x-python",
   "name": "python",
   "nbconvert_exporter": "python",
   "pygments_lexer": "ipython3",
   "version": "3.5.5"
  },
  "toc": {
   "base_numbering": 1,
   "nav_menu": {},
   "number_sections": true,
   "sideBar": true,
   "skip_h1_title": false,
   "title_cell": "Table of Contents",
   "title_sidebar": "Contents",
   "toc_cell": false,
   "toc_position": {},
   "toc_section_display": true,
   "toc_window_display": false
  }
 },
 "nbformat": 4,
 "nbformat_minor": 2
}
