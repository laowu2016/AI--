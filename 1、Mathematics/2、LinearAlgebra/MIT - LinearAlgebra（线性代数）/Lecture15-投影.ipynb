{
 "cells": [
  {
   "cell_type": "code",
   "execution_count": 5,
   "metadata": {},
   "outputs": [],
   "source": [
    "import numpy as np\n",
    "import matplotlib.pyplot as plt"
   ]
  },
  {
   "cell_type": "code",
   "execution_count": 281,
   "metadata": {},
   "outputs": [],
   "source": [
    "a1 = np.array([0,0])\n",
    "a2 = np.array([10,5])\n",
    "\n",
    "b1 = np.array([0,0])\n",
    "b2 = np.array([4,10])\n",
    "\n",
    "p1 = np.array([0,0])\n",
    "p2 = np.array([7.2,3.6])\n",
    "\n",
    "e1 = np.array([7.2,3.6])\n",
    "e2 = np.array([4,10])"
   ]
  },
  {
   "cell_type": "code",
   "execution_count": 284,
   "metadata": {},
   "outputs": [],
   "source": [
    "def drawArrow(a1,a2,b1,b2,p1,p2,e1,e2):\n",
    "    fig = plt.figure(figsize=(10, 10))\n",
    "    print(\"xasxcsasdc\")\n",
    "    ax = fig.add_subplot(111)\n",
    "    # fc: filling color\n",
    "    # ec: edge color\n",
    "\n",
    "\n",
    "    \"\"\"第一种方式\"\"\"\n",
    "    ax.arrow(a1[0], a1[1], a2[0]-a1[0], a2[1]-a1[1],\n",
    "             width=0.05,\n",
    "             length_includes_head=True, # 增加的长度包含箭头部分\n",
    "              head_width=0.25,\n",
    "              head_length=1,\n",
    "             fc='b',\n",
    "             ec='b')\n",
    "    ax.set_aspect('equal')\n",
    "\n",
    "    ax.arrow(b1[0], b1[1], b2[0]-b1[0], b2[1]-b1[1],\n",
    "             width=0.01,\n",
    "             length_includes_head=True, # 增加的长度包含箭头部分\n",
    "              head_width=0.25,\n",
    "              head_length=1,\n",
    "             fc='b',\n",
    "             ec='b')\n",
    "    ax.set_aspect('equal')\n",
    "    \n",
    "    ax.arrow(p1[0], p1[1], p2[0]-p1[0], p2[1]-p1[1],\n",
    "             width=0.01,\n",
    "             length_includes_head=True, # 增加的长度包含箭头部分\n",
    "              head_width=0.25,\n",
    "              head_length=1,\n",
    "             fc='r',\n",
    "             ec='r')\n",
    "    ax.set_aspect('equal')\n",
    "    \n",
    "    ax.arrow(e1[0], e1[1], e2[0]-e1[0], e2[1]-e1[1],\n",
    "             width=0.01,\n",
    "             length_includes_head=True, # 增加的长度包含箭头部分\n",
    "              head_width=0.25,\n",
    "              head_length=1,\n",
    "             fc='g',\n",
    "             ec='g')\n",
    "    ax.set_xlim(0, 10)\n",
    "    ax.set_ylim(0, 10)\n",
    "    ax.grid()\n",
    "    ax.set_aspect('equal')\n",
    "\n",
    "    ax.text(9,5,\"a\", fontsize=20)\n",
    "    ax.text(7,3,\"p=ax\",fontsize=20)\n",
    "    ax.text(6.5,6,\"e=b-p\",fontsize=20)\n",
    "    ax.text(3,9.5,\"b\",fontsize=20)\n",
    "    \n",
    "    #x轴y轴等比例\n",
    "    plt.show()"
   ]
  },
  {
   "cell_type": "code",
   "execution_count": 285,
   "metadata": {},
   "outputs": [
    {
     "name": "stdout",
     "output_type": "stream",
     "text": [
      "xasxcsasdc\n"
     ]
    },
    {
     "data": {
      "image/png": "[encoded data removed]",
      "text/plain": [
       "<Figure size 720x720 with 1 Axes>"
      ]
     },
     "metadata": {},
     "output_type": "display_data"
    }
   ],
   "source": [
    "drawArrow(a1,a2,b1,b2,p1,p2,e1,e2)"
   ]
  },
  {
   "cell_type": "markdown",
   "metadata": {},
   "source": [
    "# 向量b在向量a上的投影\n",
    "- $e=b-p;p=ax;由于向量a垂直与向量e,有a^Te=0\\rightarrow a^T(b-ax)=0\\rightarrow x=\\frac{a^Tb}{a^Ta};p=ax=\\frac{aa^Tb}{a^Ta};投影为p=Pb,P=\\frac{aa^T}{a^Ta}$\n",
    ">- 称$P$为投影矩阵，b为任意向量，$p=Pb$即投影矩阵P作用于向量b得到投影p\n",
    ">- 投影矩阵$P$的列空间是通过a的一条线；而他的秩为1，是秩一矩阵\n",
    ">- 投影矩阵$P$是一个对称矩阵,即$P^T=P$\n",
    ">- 如果投影两次得到$P^2$,由上图可知$P^2=P$这也是投影矩阵一大特性\n",
    "- 例子（以上图为例）：向量a = [10,5],b=[4,10],p = $\\frac{aa^Tb}{a^Ta} = \\frac{\\left[\\begin{matrix} 10\\\\5 \\end{matrix}\\right] \\left[\\begin{matrix} 10&5 \\end{matrix}\\right] \\left[\\begin{matrix} 4\\\\10 \\end{matrix}\\right]}{\\left[\\begin{matrix} 10&5 \\end{matrix}\\right] \\left[\\begin{matrix} 10\\\\5 \\end{matrix}\\right]} = \\frac{90}{125}\\left[\\begin{matrix} 10\\\\5 \\end{matrix}\\right]=\\left[\\begin{matrix} 7.2\\\\3.6 \\end{matrix}\\right]$"
   ]
  },
  {
   "cell_type": "markdown",
   "metadata": {},
   "source": [
    "# 为何要求投影\n",
    "- 因为$Ax=b$可能没有解，因此只能求解最接近的那个可解问题，那么那个才是最近的呢？由于$Ax$总是在A的列空间里面，但是b却不是，所以我要微调b，将b调整为A的列空间最接近她的哪一个，因此就将问题换做有解的$Ax=p$,而p是b在列空间上的投影，这就是做投影的原因；\n",
    "- $Ax=p$中的x显然已经不是原来的x，因此用$\\hat{x}$代替，即$A\\hat{x} = p$"
   ]
  },
  {
   "cell_type": "markdown",
   "metadata": {},
   "source": [
    "# 向量b在矩阵A上的投影"
   ]
  },
  {
   "cell_type": "code",
   "execution_count": 286,
   "metadata": {},
   "outputs": [],
   "source": [
    "t1_x = np.array([0,0,20,20,0])\n",
    "t1_y = np.array([0,15,25,10,0])\n",
    "\n",
    "# 向量b\n",
    "b1 = np.array([3,7])\n",
    "b2 = np.array([14,19])\n",
    "\n",
    "# 矩阵A的基向量a1,a2\n",
    "a1_1 = np.array([3,7])\n",
    "a1_2 = np.array([3.2,10])\n",
    "\n",
    "a2_1 = np.array([3,7])\n",
    "a2_2 = np.array([6,6])\n",
    "\n",
    "# 投影p\n",
    "p1 = np.array([3,7])\n",
    "p2 = np.array([16.5,12.5])\n",
    "\n",
    "# 误差e\n",
    "e1 = np.array([16.5,12.5])\n",
    "e2 = np.array([14,19])"
   ]
  },
  {
   "cell_type": "code",
   "execution_count": 287,
   "metadata": {},
   "outputs": [],
   "source": [
    "def drawArrow1(a1_1,a1_2,a2_1,a2_2,p1,p2,e1,e2,b1,b2,t1_x,t1_y):\n",
    "    fig = plt.figure(figsize=(10, 10))\n",
    "    print(\"xasxcsasdc\")\n",
    "    ax = fig.add_subplot(111)\n",
    "    # fc: filling color\n",
    "    # ec: edge color\n",
    "\n",
    "\n",
    "    \"\"\"第一种方式\"\"\"\n",
    "    # 基向量\n",
    "    ax.arrow(a1_1[0], a1_1[1], a1_2[0]-a1_1[0], a1_2[1]-a1_1[1],\n",
    "             width=0.05,\n",
    "             length_includes_head=True, # 增加的长度包含箭头部分\n",
    "              head_width=0.25,\n",
    "              head_length=1,\n",
    "             fc='r',\n",
    "             ec='r')\n",
    "    ax.set_aspect('equal')\n",
    "    ax.text(a1_2[0], a1_2[1], \"a1\",fontsize=20)\n",
    "    \n",
    "    ax.arrow(a2_1[0], a2_1[1], a2_2[0]-a2_1[0], a2_2[1]-a2_1[1],\n",
    "             width=0.05,\n",
    "             length_includes_head=True, # 增加的长度包含箭头部分\n",
    "              head_width=0.25,\n",
    "              head_length=1,\n",
    "             fc='r',\n",
    "             ec='r')\n",
    "    ax.set_aspect('equal')\n",
    "    ax.text(a2_2[0], a2_2[1], \"a2\",fontsize=20)\n",
    "\n",
    "    # 向量b\n",
    "    ax.arrow(b1[0], b1[1], b2[0]-b1[0], b2[1]-b1[1],\n",
    "             width=0.01,\n",
    "             length_includes_head=True, # 增加的长度包含箭头部分\n",
    "              head_width=0.25,\n",
    "              head_length=1,\n",
    "             fc='b',\n",
    "             ec='b')\n",
    "    ax.set_aspect('equal')\n",
    "    ax.text(12.5, 16, \"b\", fontsize=20)\n",
    "    \n",
    "    # 投影p\n",
    "    ax.arrow(p1[0], p1[1], p2[0]-p1[0], p2[1]-p1[1],\n",
    "             width=0.01,\n",
    "             length_includes_head=True, # 增加的长度包含箭头部分\n",
    "              head_width=0.25,\n",
    "              head_length=1,\n",
    "             fc='r',\n",
    "             ec='r',\n",
    "             linestyle='-')\n",
    "    ax.set_aspect('equal')\n",
    "    ax.text(p2[0], p2[1], \"p\", fontsize=20)\n",
    "    \n",
    "    # 误差e\n",
    "    ax.arrow(e1[0], e1[1], e2[0]-e1[0], e2[1]-e1[1],\n",
    "             width=0.02,\n",
    "             length_includes_head=True, # 增加的长度包含箭头部分\n",
    "              head_width=0.25,\n",
    "              head_length=1,\n",
    "             fc='g',\n",
    "             ec='g',\n",
    "            ls='--')\n",
    "    ax.set_aspect('equal')\n",
    "    ax.text(16, 16, \"e=b-p\", fontsize=20)\n",
    "    \n",
    "    ax.plot(t1_x,t1_y,'k')\n",
    "    ax.set_xlim(-1, 20)\n",
    "    ax.set_ylim(-1, 25)\n",
    "    ax.grid()\n",
    "    ax.set_aspect('equal')"
   ]
  },
  {
   "cell_type": "code",
   "execution_count": 288,
   "metadata": {
    "scrolled": false
   },
   "outputs": [
    {
     "name": "stdout",
     "output_type": "stream",
     "text": [
      "xasxcsasdc\n"
     ]
    },
    {
     "data": {
      "image/png": "[encoded data removed]",
      "text/plain": [
       "<Figure size 720x720 with 1 Axes>"
      ]
     },
     "metadata": {},
     "output_type": "display_data"
    }
   ],
   "source": [
    "drawArrow1(a1_1,a1_2,a2_1,a2_2,p1,p2,e1,e2,b1,b2,t1_x,t1_y)"
   ]
  },
  {
   "cell_type": "markdown",
   "metadata": {},
   "source": [
    "- $p = \\hat{x_1}a_1 + \\hat{x_2}a_2,即p = A\\hat{x}$，现在我们需要求出$\\hat{x}$,由于$e\\bot A,即b-p=(b-A\\hat{x}) \\bot A,那么同样有e\\bot a_1;e\\bot a_2,则可以得到方程组\\begin{cases} a_1^T(b-A\\hat{x})=0 \\\\ a_2^T(b-A\\hat{x})=0 \\end{cases}$\n",
    "- 将以上方程组转换为矩阵的形式$\\left[\\begin{matrix}a_1^T\\\\a_2^T \\end{matrix}\\right](b-A\\hat{x})=\\left[\\begin{matrix}0\\\\0 \\end{matrix}\\right]，即A^T(b-A\\hat{x})=0$\n",
    "- 通过式子可以看出$e=b-A\\hat{x}$其实是矩阵A的左零空间，根据做零空间的性质可以得到，e垂直与A的列空间\n",
    "- 根据以上式子我们可以求出3个关键量\n",
    ">- $\\hat{x} = (A^TA)^{-1}A^Tb$\n",
    ">- 投影$p = A(A^TA)^{-1}A^Tb$\n",
    ">- 投影矩阵$P = A(A^TA)^{-1}A^T$\n",
    "- $P$同样满足$P^T=P;P^2=P$"
   ]
  },
  {
   "cell_type": "markdown",
   "metadata": {},
   "source": [
    "# 最小二乘（作业）\n",
    "- 有点$(1,1);(2,2);(3,2)$, 根据这三点找出最适合的直线（最优直线）， 显然没有直线能同时过这三点，因此希望求出最优直线，何为最优直线，即如下图中的error之和最小。"
   ]
  },
  {
   "cell_type": "code",
   "execution_count": 311,
   "metadata": {},
   "outputs": [
    {
     "data": {
      "text/plain": [
       "Text(0,0.5,'b')"
      ]
     },
     "execution_count": 311,
     "metadata": {},
     "output_type": "execute_result"
    },
    {
     "data": {
      "image/png": "[encoded data removed]",
      "text/plain": [
       "<Figure size 720x720 with 1 Axes>"
      ]
     },
     "metadata": {},
     "output_type": "display_data"
    }
   ],
   "source": [
    "arr_x = np.array([1,2,3])\n",
    "arr_y = np.array([1,2,2])\n",
    "\n",
    "lin_x = np.array([0,10])\n",
    "lin_y = 0.25*lin_x+1\n",
    "\n",
    "err1_x = np.array([1,1])\n",
    "err1_y = np.array([1,1.25])\n",
    "\n",
    "err2_x = np.array([2,2])\n",
    "err2_y = np.array([2,1.5])\n",
    "\n",
    "err3_x = np.array([3,3])\n",
    "err3_y = np.array([2,1.75])\n",
    "\n",
    "fig = plt.figure(figsize=(10,10))\n",
    "ax = fig.add_subplot(111)\n",
    "\n",
    "ax.scatter(arr_x, arr_y, marker=\"x\", c=\"r\")\n",
    "ax.plot(lin_x, lin_y)\n",
    "ax.plot(err1_x, err1_y, linestyle=\"--\", c=\"r\")\n",
    "ax.text(1,1.1, \"error1\", fontsize=15)\n",
    "ax.plot(err2_x, err2_y, linestyle=\"--\", c=\"r\")\n",
    "ax.text(2,1.6, \"error2\", fontsize=15)\n",
    "ax.plot(err3_x, err3_y, linestyle=\"--\", c=\"r\")\n",
    "ax.text(3,1.8, \"error3\", fontsize=15)\n",
    "ax.set_xlim(0,10)\n",
    "ax.set_ylim(0,4)\n",
    "ax.set_xlabel(\"t\", fontsize=20)\n",
    "ax.set_ylabel(\"b\", fontsize=20)"
   ]
  },
  {
   "cell_type": "markdown",
   "metadata": {},
   "source": [
    "- 要解以上公式，我们首先需要找出矩阵A；设最优直线为$b = C+Dt$,需要确定C和D的值，根据这三个点可以列出三个方程$\\begin{cases}C+D=1\\\\C+2D=2\\\\C+3D=2 \\end{cases}$,这个方程组是没有解的，如果有解，表示三点共线，换成矩阵方程为$\\overbrace{\\left[\\begin{matrix} 1&1\\\\1&2\\\\1&3 \\end{matrix}\\right]}^{A} \\overbrace{\\left[\\begin{matrix} C\\\\D \\end{matrix}\\right]}^{x}=\\overbrace{\\left[\\begin{matrix} 1\\\\2\\\\2\\end{matrix}\\right]}^{b}$\n",
    "- 对于这个方程通常是无解的，但是我们可以求出“最优解”， 所谓的最优解，并非是原方程$Ax=b$的解，而是方程$A^TA\\hat{x}=A^Tb$的解，我们要解的就是这个方程，这个方程是**最小二乘法的核心方程**，令人惊讶的是两边同时乘以A的转置，就得到一个有解的方程，就可以求出最优解，最理想的投影，以及投影矩阵"
   ]
  },
  {
   "cell_type": "code",
   "execution_count": null,
   "metadata": {},
   "outputs": [],
   "source": []
  }
 ],
 "metadata": {
  "kernelspec": {
   "display_name": "Python [default]",
   "language": "python",
   "name": "python3"
  },
  "language_info": {
   "codemirror_mode": {
    "name": "ipython",
    "version": 3
   },
   "file_extension": ".py",
   "mimetype": "text/x-python",
   "name": "python",
   "nbconvert_exporter": "python",
   "pygments_lexer": "ipython3",
   "version": "3.5.5"
  },
  "toc": {
   "base_numbering": 1,
   "nav_menu": {},
   "number_sections": true,
   "sideBar": true,
   "skip_h1_title": false,
   "title_cell": "Table of Contents",
   "title_sidebar": "Contents",
   "toc_cell": false,
   "toc_position": {},
   "toc_section_display": true,
   "toc_window_display": false
  }
 },
 "nbformat": 4,
 "nbformat_minor": 2
}
