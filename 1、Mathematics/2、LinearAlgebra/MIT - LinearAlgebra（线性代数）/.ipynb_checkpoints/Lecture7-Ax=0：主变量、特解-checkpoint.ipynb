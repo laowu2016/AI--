{
 "cells": [
  {
   "cell_type": "markdown",
   "metadata": {},
   "source": [
    "# 本节主要内容\n",
    "- Ax=0国内通常称为齐次方程组，Ax=b称为导出组\n",
    "- 上一节主要讲了矩阵的零空间和列空间，这一讲主要讲解如何找出这些空间中的向量，如何计算出这些向量\n",
    "- 主讲零空间"
   ]
  },
  {
   "cell_type": "markdown",
   "metadata": {},
   "source": [
    "- 对矩阵进行消元，消元只改变列空间，但零空间不会发生改变"
   ]
  },
  {
   "cell_type": "markdown",
   "metadata": {},
   "source": [
    "- 例：$Ax=0;A=\\left[\\begin{matrix} 1&2&2&2 \\\\ 2&4&6&8 \\\\ 3&6&8&10 \\end{matrix}\\right]$\n",
    ">- [x] 第一步消元得到$A=\\left[\\begin{matrix} 1&2&2&2 \\\\ 0&0&2&4 \\\\ 0&0&2&4\\end{matrix}\\right]$\n",
    ">- [x] 第二列原本主元的位置为0，而且通过行交换无法解决，因此找下一个主元$\\left[\\begin{matrix} 1&2&2&2 \\\\ 0&0&[2]&4 \\\\ 0&0&2&4\\end{matrix}\\right]$继续进行消元(对第二个主元下的行)，得到$A=\\left[\\begin{matrix} 1&2&2&2 \\\\ 0&0&2&4 \\\\ 0&0&0&0\\end{matrix}\\right]$,这个矩阵A即为矩阵U\n",
    "- 本例中主元只有两个，因此该矩阵的秩=2，记为rank=2\n",
    "- 通过消元，Ax=0变成了Ux=0；但解和零空间不变\n",
    "- 主元所在的列成为主列，其对应的变量为**主变量**，非主元所在的列为自由列，这些自由列表示，可以任意或自由分配数值，即列2和列4的乘数是任意的，因此$x_2和x_4$可以任取，他们也成为自由变量，然后只需求解$x_1和x_3$即可"
   ]
  },
  {
   "cell_type": "markdown",
   "metadata": {},
   "source": [
    "## 特解"
   ]
  },
  {
   "cell_type": "markdown",
   "metadata": {},
   "source": [
    "- 根据以上的消元，可以得到矩阵A的第一列和第三列为主元列，第二列和第四列为自由列，对于（m*n）大小的矩阵A，如果其秩为r那么其自由列为n-r；r表示在矩阵A中，真正起作用的方程自由r个\n",
    "- 要求矩阵的零空间，我们首先要找到**特解**，**每个自由变量对应一个特解**，对于以上的例子中，取$x_2=0;x_4=1和x_2=1;x_4=0$再根据这两个自由列求出主变量，既可以得到特解为:$\\left[\\begin{matrix} -2\\\\1\\\\0\\\\0 \\end{matrix}\\right]$和$\\left[\\begin{matrix} 2\\\\0\\\\-2\\\\1 \\end{matrix}\\right]$\n",
    "- 特解的线性组合即为方程组的解$x=c\\left[\\begin{matrix} -2\\\\1\\\\0\\\\0 \\end{matrix}\\right]+d\\left[\\begin{matrix} 2\\\\0\\\\-2\\\\1 \\end{matrix}\\right]$"
   ]
  },
  {
   "cell_type": "markdown",
   "metadata": {},
   "source": [
    "## 对矩阵U的进一步简化\n",
    "- 简化行阶梯形式(rref)，此形式下，主元上下全是0\n",
    "- 矩阵$U=\\left[\\begin{matrix} 1&2&2&2 \\\\ 0&0&2&4 \\\\ 0&0&0&0\\end{matrix}\\right]$的化解，第一步:第一行减去第二行得$\\left[\\begin{matrix} 1&2&0&-2 \\\\ 0&0&2&4\\\\ 0&0&0&0\\end{matrix}\\right]$,第二步：将第二行除2，使得第二个主元变为1得$\\left[\\begin{matrix} 1&2&0&-2\\\\0&0&1&2\\\\0&0&0&0 \\end{matrix}\\right]=R=\\left[\\begin{matrix} I&F\\\\0&0 \\end{matrix}\\right]$\n",
    "- 消元后，如果某行全为0，那么则说明，这一行是其他行的线性组合。\n",
    "- 经过一系列的消元，等式变为了$Rx=0$"
   ]
  },
  {
   "cell_type": "markdown",
   "metadata": {},
   "source": [
    "### 简化行阶梯形式的用处\n",
    "- 分别取出矩阵的主元列和自由列，可以得到连个矩阵（不管最下面一行）$I = \\left[\\begin{matrix} 1&0\\\\0&1 \\end{matrix}\\right];F=\\left[\\begin{matrix} 2&-2\\\\0&2 \\end{matrix}\\right]$\n",
    "- 有了矩阵I和F，就很好求特解了：将I分配到自由变量中，将-F分配到主元变量中，$RN=0->N=\\left[\\begin{matrix} -F\\\\I \\end{matrix}\\right]$\n",
    "- 为何要使用-F,答案很简单：由于Rx=0，那么$\\left[\\begin{matrix} I&F \\end{matrix}\\right] \\left[\\begin{matrix} x_{pivot}\\\\x_{free} \\end{matrix}\\right]=0--->x_{pivot}=-Fx_{free}$"
   ]
  },
  {
   "cell_type": "markdown",
   "metadata": {},
   "source": [
    "## 新例子\n",
    "- $A=\\left[\\begin{matrix} 1&2&3\\\\2&4&6\\\\2&6&8\\\\2&8&10 \\end{matrix}\\right];消元得到U=\\left[\\begin{matrix} 1&2&3\\\\0&2&2\\\\0&0&0\\\\0&0&0 \\end{matrix}\\right]$，这个例子中，主元有两个，自由列有1个，显然其特解也只有一个，取自由列对应的$x_3=1$（注意：取0没有意义），可得$x=c\\left[\\begin{matrix} -1\\\\-1\\\\1 \\end{matrix}\\right]=N=零空间$\n",
    "- 求简化矩阵R，$R=\\left[\\begin{matrix} 1&0&1\\\\0&1&1\\\\0&0&0\\\\0&0&0 \\end{matrix}\\right];I=\\left[\\begin{matrix} 1&0\\\\0&1 \\end{matrix}\\right]; F=\\left[\\begin{matrix} 1\\\\1 \\end{matrix}\\right];x=\\left[\\begin{matrix} -1\\\\-1\\\\1 \\end{matrix}\\right]=\\left[\\begin{matrix} -F\\\\I \\end{matrix}\\right]$"
   ]
  },
  {
   "cell_type": "code",
   "execution_count": null,
   "metadata": {},
   "outputs": [],
   "source": []
  }
 ],
 "metadata": {
  "kernelspec": {
   "display_name": "Python [default]",
   "language": "python",
   "name": "python3"
  },
  "language_info": {
   "codemirror_mode": {
    "name": "ipython",
    "version": 3
   },
   "file_extension": ".py",
   "mimetype": "text/x-python",
   "name": "python",
   "nbconvert_exporter": "python",
   "pygments_lexer": "ipython3",
   "version": "3.5.5"
  },
  "toc": {
   "base_numbering": 1,
   "nav_menu": {},
   "number_sections": true,
   "sideBar": true,
   "skip_h1_title": false,
   "title_cell": "Table of Contents",
   "title_sidebar": "Contents",
   "toc_cell": false,
   "toc_position": {},
   "toc_section_display": true,
   "toc_window_display": false
  }
 },
 "nbformat": 4,
 "nbformat_minor": 2
}
