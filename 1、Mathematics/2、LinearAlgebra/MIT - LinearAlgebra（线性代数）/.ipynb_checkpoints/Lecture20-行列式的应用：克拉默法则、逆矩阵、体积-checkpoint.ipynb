{
 "cells": [
  {
   "cell_type": "markdown",
   "metadata": {},
   "source": [
    "# 本节重点\n",
    "- 逆矩阵公式\n",
    ">- 2阶逆矩阵公式：$\\left[\\begin{matrix} a&b\\\\c&d \\end{matrix}\\right]^{-1} = \\frac{1}{ad-cb}\\left[\\begin{matrix} d&-b\\\\-c&a \\end{matrix}\\right]$\n",
    ">- $A^{-1} = \\frac{1}{det(A)}C^T$;(在课程中，教授称$C$为代数余子式矩阵（例如2阶矩阵的例子中，$C=\\left[\\begin{matrix} d&-b\\\\-c&a \\end{matrix}\\right]$,其中的d为a的代数余子式，b为c的代数余子式，为何此处是-b？因为c的下标是$c_{21}$,2+1=3为奇数，因此取负号），$C^T$一般称作伴随矩阵)\n",
    ">- $C和C^T的解释：由于C为代数余子式矩阵，因此C=\\left[\\begin{matrix} d&-c\\\\-b&a \\end{matrix}\\right]；所以C^T = \\left[\\begin{matrix} d&-b\\\\-c&a \\end{matrix}\\right]$\n",
    ">- $det(A)由n个元素的乘积组成；而伴随矩阵各元素则由n-1个乘积组成$"
   ]
  },
  {
   "cell_type": "markdown",
   "metadata": {},
   "source": [
    "- 证明逆矩阵公式\n",
    ">- 证明$A^{-1} = \\frac{1}{det(A)}C^T,即证明：AC^T = (detA)I$    (并未理解老爷子讲的内容)[TODO]"
   ]
  },
  {
   "cell_type": "markdown",
   "metadata": {},
   "source": [
    "## $Ax=b$\n",
    "- $Ax=b\\rightarrow x=A^{-1}b=\\frac{1}{detA}C^Tb$\n",
    "- 克拉默法则："
   ]
  },
  {
   "cell_type": "code",
   "execution_count": null,
   "metadata": {},
   "outputs": [],
   "source": []
  }
 ],
 "metadata": {
  "kernelspec": {
   "display_name": "Python [default]",
   "language": "python",
   "name": "python3"
  },
  "language_info": {
   "codemirror_mode": {
    "name": "ipython",
    "version": 3
   },
   "file_extension": ".py",
   "mimetype": "text/x-python",
   "name": "python",
   "nbconvert_exporter": "python",
   "pygments_lexer": "ipython3",
   "version": "3.5.5"
  },
  "toc": {
   "base_numbering": 1,
   "nav_menu": {},
   "number_sections": true,
   "sideBar": true,
   "skip_h1_title": false,
   "title_cell": "Table of Contents",
   "title_sidebar": "Contents",
   "toc_cell": false,
   "toc_position": {},
   "toc_section_display": true,
   "toc_window_display": false
  }
 },
 "nbformat": 4,
 "nbformat_minor": 2
}
