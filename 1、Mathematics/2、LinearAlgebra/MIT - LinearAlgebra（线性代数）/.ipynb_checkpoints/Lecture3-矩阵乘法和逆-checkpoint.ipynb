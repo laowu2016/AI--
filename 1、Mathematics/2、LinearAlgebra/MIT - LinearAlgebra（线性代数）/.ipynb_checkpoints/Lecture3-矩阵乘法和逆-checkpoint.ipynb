{
 "cells": [
  {
   "cell_type": "markdown",
   "metadata": {},
   "source": [
    "# 本节主要内容\n",
    "- 矩阵乘法\n",
    "- 矩阵的逆"
   ]
  },
  {
   "cell_type": "markdown",
   "metadata": {},
   "source": [
    "## 矩阵乘法\n",
    "- 矩阵相乘的维度条件，假如A矩阵形状为(m,n)则B矩阵的形状必须是(n,p),注意n必须相等，相乘后，矩阵形状为(m,p)\n",
    "- 求法1（常规）：AB=C，则$C_{34} = (row 3 of A).(columns 4 of B)$\n",
    "- 求法2（用列）：矩阵乘法可以看成是矩阵和列向量相乘后得到,可以参考上一节的公式，例子:$\\left[\\begin{matrix} 1&2&7\\\\3&4&6\\\\2&1&3 \\end{matrix}\\right] \\left[\\begin{matrix} 1&3\\\\2&1\\\\1&4 \\end{matrix}\\right]= \\left[\\begin{matrix}{\\left[\\begin{matrix} 1\\\\3\\\\2 \\end{matrix}\\right]*1+\\left[\\begin{matrix} 2\\\\4\\\\1 \\end{matrix}\\right]*2+\\left[\\begin{matrix} 7\\\\6\\\\3 \\end{matrix}\\right]*1}&,{\\left[\\begin{matrix} 1\\\\3\\\\2 \\end{matrix}\\right]*3+\\left[\\begin{matrix} 2\\\\4\\\\1 \\end{matrix}\\right]*1+\\left[\\begin{matrix} 7\\\\6\\\\3 \\end{matrix}\\right]*4}\\end{matrix}\\right] = \\left[\\begin{matrix} 12&33\\\\17&37\\\\7&19 \\end{matrix}\\right]$\n",
    "- 求法3（用行）：矩阵乘法可以看成是行向量和矩阵相乘后得到,可以参考上一节的公式，例子:方法类比求法二，参考上一节公式，此处不多做陈述\n",
    "- 求法4（用列乘以行）:列1乘以行一，列二乘以行而再相加，$\\left[\\begin{matrix}2&7\\\\3&8\\\\4&9 \\end{matrix}\\right] \\left[\\begin{matrix}1&6\\\\0&0 \\end{matrix}\\right] = \\left[\\begin{matrix}2\\\\3\\\\4 \\end{matrix}\\right]\\left[\\begin{matrix}1&6 \\end{matrix}\\right] + \\left[\\begin{matrix}7\\\\8\\\\9 \\end{matrix}\\right] \\left[\\begin{matrix}0&0 \\end{matrix}\\right]$\n",
    "- 求法5：分块乘法，不详细讲解\n",
    "- 求法2和求法3本质都是看成线性组合\n",
    "- 行空间：矩阵所有行组成的空间称为行空间"
   ]
  },
  {
   "cell_type": "code",
   "execution_count": 1,
   "metadata": {},
   "outputs": [],
   "source": [
    "import numpy as np"
   ]
  },
  {
   "cell_type": "code",
   "execution_count": 6,
   "metadata": {},
   "outputs": [],
   "source": [
    "A = np.array([[1,2,7],[3,4,6],[2,1,3]])\n",
    "B = np.array([[1,3],[2,1],[1,4]])\n",
    "C = np.dot(A,B)"
   ]
  },
  {
   "cell_type": "code",
   "execution_count": 9,
   "metadata": {},
   "outputs": [
    {
     "name": "stdout",
     "output_type": "stream",
     "text": [
      "[[1 2 7]\n",
      " [3 4 6]\n",
      " [2 1 3]]\n",
      "[[1 3]\n",
      " [2 1]\n",
      " [1 4]]\n",
      "[[12 33]\n",
      " [17 37]\n",
      " [ 7 19]]\n"
     ]
    }
   ],
   "source": [
    "print(A)\n",
    "print(B)\n",
    "print(C)"
   ]
  },
  {
   "cell_type": "markdown",
   "metadata": {},
   "source": [
    "## 矩阵的逆(方阵)\n",
    "- 并不是所有矩阵都有逆\n",
    "- 如果矩阵存在逆，则(左逆)$A^{-1}A=I$,(右逆)$AA^{-1}=I$\n",
    "- 对于方阵，只要A有逆，放在那边都行。\n",
    "- 如果A有逆，则称矩阵A可逆的，或非奇异的"
   ]
  },
  {
   "cell_type": "markdown",
   "metadata": {},
   "source": [
    "### 奇异矩阵（没有逆的情况）\n",
    "- 奇异矩阵举例：\n",
    ">- $\\left[\\begin{matrix} 1&3\\\\2&6 \\end{matrix}\\right]$\n",
    ">- 1)为何以上矩阵没有逆：\n",
    ">>- 行列式：$1*6-2*3=0$\n",
    ">>- 可以找到一个非0向量x，使得$Ax=0$这样的矩阵没有逆\n",
    ">>- 如果其中一列对线性组合毫无贡献，矩阵不可能有逆\n",
    ">>- 不可逆矩阵、奇异矩阵其列能通过线性组合得到0（就是乘非0向量）"
   ]
  },
  {
   "cell_type": "markdown",
   "metadata": {},
   "source": [
    "### 求矩阵的逆\n",
    "- $\\left[\\begin{matrix} 1&3\\\\2&7 \\end{matrix}\\right] \\left[\\begin{matrix} a&b\\\\c&d \\end{matrix}\\right]=\\left[\\begin{matrix} 1&0\\\\0&1 \\end{matrix}\\right]$\n",
    "- 根据矩阵乘法可以得到两个方程组：$\\begin{cases} 1*a+3*c=1 \\\\ 2*a+7*c=0 \\end{cases}$根据以上式子可以解出$\\begin{cases} a=7\\\\c=-2 \\end{cases}$,同理可解除c和d$\\begin{cases} b=-3\\\\d=1 \\end{cases}$"
   ]
  },
  {
   "cell_type": "markdown",
   "metadata": {},
   "source": [
    "### 利用高斯消元法求矩阵的逆"
   ]
  },
  {
   "cell_type": "markdown",
   "metadata": {},
   "source": [
    "- $\\left[\\begin{array}{lr|lr} 1&3&1&0\\\\(2)&7&0&1 \\end{array}\\right] \\overbrace{\\longrightarrow}^{step 1:col2=col2+col1*-2} \\left[\\begin{array}{lr|lr} 1&(3)&1&0\\\\0&1&-2&1 \\end{array}\\right] \\overbrace{\\longrightarrow}^{step 2:col1=col1+col2*-3} \\left[\\begin{array}{lr|lr} 1&0&7&-3\\\\0&1&-2&1 \\end{array}\\right] \\Longrightarrow A^{-1}=\\left[\\begin{matrix} 7&-3\\\\-2&1 \\end{matrix}\\right]$\n",
    "\n",
    "- 课程中结尾简单介绍了这个方法可行的原因，并未仔细看"
   ]
  },
  {
   "cell_type": "code",
   "execution_count": null,
   "metadata": {},
   "outputs": [],
   "source": []
  }
 ],
 "metadata": {
  "kernelspec": {
   "display_name": "Python [default]",
   "language": "python",
   "name": "python3"
  },
  "language_info": {
   "codemirror_mode": {
    "name": "ipython",
    "version": 3
   },
   "file_extension": ".py",
   "mimetype": "text/x-python",
   "name": "python",
   "nbconvert_exporter": "python",
   "pygments_lexer": "ipython3",
   "version": "3.5.5"
  },
  "toc": {
   "base_numbering": 1,
   "nav_menu": {},
   "number_sections": true,
   "sideBar": true,
   "skip_h1_title": false,
   "title_cell": "Table of Contents",
   "title_sidebar": "Contents",
   "toc_cell": false,
   "toc_position": {},
   "toc_section_display": true,
   "toc_window_display": true
  }
 },
 "nbformat": 4,
 "nbformat_minor": 2
}
