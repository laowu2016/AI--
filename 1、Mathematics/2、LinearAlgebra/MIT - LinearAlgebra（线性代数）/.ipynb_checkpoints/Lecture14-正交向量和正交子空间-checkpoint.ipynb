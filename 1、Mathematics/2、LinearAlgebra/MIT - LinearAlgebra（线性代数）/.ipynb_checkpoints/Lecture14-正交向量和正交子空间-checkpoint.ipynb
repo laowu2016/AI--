{
 "cells": [
  {
   "cell_type": "markdown",
   "metadata": {},
   "source": [
    "# 正交向量"
   ]
  },
  {
   "cell_type": "markdown",
   "metadata": {},
   "source": [
    "- 什么是向量的正交？\n",
    ">- 正交是垂直的另一种说法，它意味着在n维空间中，这些向量的夹角是90度。如何判断向量$x,y$是否正交呢？如果$x^Ty=0$那么向量$x和向量y$正交，如果这两个向量正交，则有$||x||^2+||y||^2 = ||x+y||^2$\n",
    ">- 如何理解$||x||^2$?,其实$||x||^2=x^Tx$\n",
    ">- 零向量与任何向量都正交\n",
    "- 什么是子空间的正交？\n",
    "- 什么是基的正交？"
   ]
  },
  {
   "cell_type": "markdown",
   "metadata": {},
   "source": [
    "# 正交子空间\n",
    "- 什么是子空间的正交？ \n",
    ">- 如果子空间S和子空间T正交，那么S空间中的任意向量都与T空间中的任意向量正交，以地板和墙面为例，他们并不正交，因为他们有共同的向量，是一条线，这条线上的向量不是正交的。\n",
    ">- 行空间正交于零空间,由于零空间是$Ax=0$的解，所以，行空间的每一行与x相乘都是零，即行空间中的所有向量都与零向量正交（这里其实还需要证明行空间的线性组合也正交于零空间，由于$row1^Tx = 0;row2^Tx=0;c1*row1^Tx+c2*row2^Tx=0$）\n",
    ">- 列空间正交于左零空间，证明同上\n",
    ">- 零空间包含了所有垂直于行空间的向量"
   ]
  },
  {
   "cell_type": "markdown",
   "metadata": {},
   "source": [
    "# 对于$Ax=b$如何求一个无解的方程组的解\n",
    "- 无解的情况\n",
    ">- $m>n$\n",
    ">- 如何办？\n",
    ">>- 只需要将坏方程两边同时乘矩阵的转置，就会让怀方程变为好方程,即$A^TAx = A^Tb$\n",
    "- 最重要的矩阵$A^TA$\n",
    ">- 此矩阵的性质\n",
    ">>- 这是一个方阵\n",
    ">>- 他是对称阵\n",
    ">>- 不一定是可逆的,当且仅当零空间里面只有零向量，也就是说A的各列线性无关时，$A^TA$可逆\n",
    ">>- $N(A^TA) = N(A)$;秩$rank\\ of\\ A^TA = rank\\ of\\ A$"
   ]
  },
  {
   "cell_type": "code",
   "execution_count": null,
   "metadata": {},
   "outputs": [],
   "source": []
  }
 ],
 "metadata": {
  "kernelspec": {
   "display_name": "Python [default]",
   "language": "python",
   "name": "python3"
  },
  "language_info": {
   "codemirror_mode": {
    "name": "ipython",
    "version": 3
   },
   "file_extension": ".py",
   "mimetype": "text/x-python",
   "name": "python",
   "nbconvert_exporter": "python",
   "pygments_lexer": "ipython3",
   "version": "3.5.5"
  },
  "toc": {
   "base_numbering": 1,
   "nav_menu": {},
   "number_sections": true,
   "sideBar": true,
   "skip_h1_title": false,
   "title_cell": "Table of Contents",
   "title_sidebar": "Contents",
   "toc_cell": false,
   "toc_position": {},
   "toc_section_display": true,
   "toc_window_display": false
  }
 },
 "nbformat": 4,
 "nbformat_minor": 2
}
