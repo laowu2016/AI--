{
 "cells": [
  {
   "cell_type": "markdown",
   "metadata": {},
   "source": [
    "# 本节重点\n",
    "- 行列式的公式$det A$\n",
    "- 代数余子式公式\n",
    "- 三对角矩阵"
   ]
  },
  {
   "cell_type": "markdown",
   "metadata": {},
   "source": [
    "## 以（2,2）的矩阵为例，求$det A$的公式\n",
    "- 二维的例子$det(A) = \\left|\\begin{matrix} a&b\\\\c&d \\end{matrix}\\right|$ ，通过行列式具有的前三条性质，可以退出这个二阶行列式的公式$det(A) = \\left|\\begin{matrix} a&b\\\\c&d \\end{matrix}\\right| = \\left|\\begin{matrix} a&0\\\\c&d \\end{matrix}\\right|+\\left|\\begin{matrix} 0&b\\\\c&d \\end{matrix}\\right| = \\left|\\begin{matrix} a&0\\\\c&0 \\end{matrix}\\right| + \\left|\\begin{matrix} a&0\\\\0&d \\end{matrix}\\right| + \\left|\\begin{matrix} 0&b\\\\0&d \\end{matrix}\\right| + \\left|\\begin{matrix} 0&b\\\\c&0 \\end{matrix}\\right| = ad-cb$\n",
    ">- 以上，对于2阶行列式，我们可以将1个拆分为2个，再将2个拆分为4个，而对于3阶行列式，我们将一个拆分为3个，由三个拆分为9个，由9个拆分为27个；对于n阶行列式，我们总共可以拆分为$n!$个，但是这些拆分的矩阵中，大部分为0\n",
    ">- 每一个拆分出来的**非零**行列式都是在每行每列有且只有一个元素，就如同置换矩阵一般，可以将这些非零行列式看着是不同的置换矩阵，经过单数次置换求得行列式值的符号为“-”，经过双数次置换得到的行列式值为“+”\n",
    ">- 三维的例子$det(A) = \\left|\\begin{matrix} a_{11}&a_{12}&a_{13}\\\\a_{21}&a_{22}&a_{23}\\\\a_{31}&a_{32}&a_{33} \\end{matrix}\\right| = \\left|\\begin{matrix} a_{11}&0&0\\\\0&a_{22}&0\\\\0&0&a_{33} \\end{matrix}\\right| + \\left|\\begin{matrix} a_{11}&0&0\\\\0&0&a_{23}\\\\0&a_{32}& \\end{matrix}\\right| + \\left|\\begin{matrix} 0&a_{12}&0\\\\a_{21}&0&0\\\\0&0&a_{33} \\end{matrix}\\right| + \\left|\\begin{matrix} 0&a_{12}&0\\\\0&0&a_{23}\\\\a_{31}&0&0 \\end{matrix}\\right| + \\left|\\begin{matrix} 0&0&a_{13}\\\\a_{21}&0&0\\\\0&a_{32}&0 \\end{matrix}\\right| + \\left|\\begin{matrix} 0&0&a_{13}\\\\0&a_{22}&0\\\\a_{31}&0&0 \\end{matrix}\\right| = a_{11}a_{22}a_{33} - a_{11}a_{23}a_{32}-a_{12}a_{21}a_{33}+a_{12}a_{23}a_{31}+a_{13}a_{21}a_{32}-a_{13}a_{22}a_{31}$\n",
    "- n阶行列式的公式（大公式）$det(A) = \\sum_{n!items}=\\pm a_{1\\alpha}a_{1\\beta}a_{1\\gamma}...a_{n\\omega};{(\\alpha;\\beta;\\gamma;...;\\omega)}={1,2,...,n}$\n",
    ">- 例子:$\\left|\\begin{matrix} 0&0&1&1\\\\0&1&1&0\\\\1&1&0&0\\\\1&0&0&1 \\end{matrix}\\right|$,对于此例子，拆分矩阵中非零行列式即每行非零元素组成的矩阵，总共有两个非零拆分矩阵，即$\\left|\\begin{matrix} 0&0&1&1\\\\0&1&1&0\\\\1&1&0&0\\\\1&0&0&1 \\end{matrix}\\right|=\\left|\\begin{matrix} 0&0&1&0\\\\0&1&0&0\\\\1&0&0&0\\\\0&0&0&1 \\end{matrix}\\right|+\\left|\\begin{matrix} 0&0&0&1\\\\0&0&1&0\\\\0&1&0&0\\\\1&0&0&0 \\end{matrix}\\right|$,以上两个拆分矩阵中，前一个拆分矩阵的$a_{1\\alpha}a_{1\\beta}a_{1\\gamma}...a_{n\\omega}$标号为(3,2,1,4)，后一个标号为(4,3,1,2)；如何取这两个矩阵的正负号呢？可以通过记录下将标号转换为从低到高的排列所需的次数n来片段正负号，例如$(3,2,1,4)\\rightarrow (1,2,3,4),n=1$因此，第一个矩阵符号为“-”；同理，第二个矩阵有$(4,3,2,1)\\rightarrow (1,2,3,4),n=2$,因此第二个矩阵符号为“+”，因此$det(A) = \\left|\\begin{matrix} 0&0&1&1\\\\0&1&1&0\\\\1&1&0&0\\\\1&0&0&1 \\end{matrix}\\right|=\\left|\\begin{matrix} 0&0&1&0\\\\0&1&0&0\\\\1&0&0&0\\\\0&0&0&1 \\end{matrix}\\right|+\\left|\\begin{matrix} 0&0&0&1\\\\0&0&1&0\\\\0&1&0&0\\\\1&0&0&0 \\end{matrix}\\right| = -1+1=0$\n",
    ">>- 验证，由于以上矩阵为奇异矩阵，因此行列式=0，和以上计算结果匹配"
   ]
  },
  {
   "cell_type": "markdown",
   "metadata": {},
   "source": [
    "## 代数余子式\n",
    "- 代数余子式的目的是将$N\\times N$的矩阵化简为$(N-1)\\times(N-1)$的矩阵\n",
    "- $det(A) = a_{11}(a_{22}a_{33} - a_{23}a_{32}) + a_{12}*-(a_{21}a_{33} - a_{31}a_{23}) + a_{13}(a_{21}a{32} - a_{22}a_{31}) = \\left|\\begin{matrix} a_{1}&0&0\\\\0&a_{22}&a_{23}\\\\0&a_{32}&a_{33} \\end{matrix}\\right|+\\left|\\begin{matrix} 0&a_{21}&0\\\\a_{21}&0&a_{23}\\\\a_{31}&0&a_{33} \\end{matrix}\\right|+\\left|\\begin{matrix} 0&0&a_{13}\\\\a_{21}&a_{22}&0\\\\a_{31}&a_{32}&0\\\\ \\end{matrix}\\right|$\n",
    ">- 将原公式中属于矩阵第一行的$a_{1j}$提出来，其系数即为代数余子式（例如$(a_{22}a_{33} - a_{23}a_{32})$），是一个低阶行列式的值。这个低阶行列式是有原矩阵去掉$a_{1j}$所在的行和列组成\n",
    "- 对于矩阵中任意原始$a_{ij}$而言，其代数余子式$C_{ij}$就是矩阵的行列式公式中$a_{ij}$的系数，$C_{ij}$等于原矩阵移除第i行和第j列后剩余元素组成的n-1阶矩阵的行列式数值乘以$(-1)^{i+j}(C_{ij}在i+j为偶数时为正，奇数时为负。)$\n",
    "\n",
    "- 对于n阶方阵，其代数余子式公式为$det(A) = a_{11}C_{11}+a_{12}C_{12}+...+a_{1n}C_{1n}$\n",
    "- 对于二阶矩阵，按照代数余子式公式则有$\\left|\\begin{matrix} a&b\\\\c&d \\end{matrix}\\right|=ad+b(-c)$"
   ]
  },
  {
   "cell_type": "markdown",
   "metadata": {},
   "source": [
    "- 对于矩阵行列式的计算，消元得到的主元是计算最快的方法，与之相比，大公式最为复杂，代数余子式介于两者之间，他的核心是通过降阶来将原来的行列式展开为更简单的行列式"
   ]
  },
  {
   "cell_type": "markdown",
   "metadata": {},
   "source": [
    "## 三对角矩阵"
   ]
  },
  {
   "cell_type": "markdown",
   "metadata": {},
   "source": [
    "- 以三对角矩阵为例，他除了对角线和对角线两侧相邻的元素之外，其他元素均为0.我们以此矩阵为例用代数余子式求解本矩阵的行列式：$A_4=\\left[\\begin{matrix} 1&1&0&0\\\\1&1&1&0\\\\0&1&1&1\\\\0&0&1&1 \\end{matrix}\\right]$从一阶开始算，有$|A_1| = 1;|A_2|=\\left|\\begin{matrix} 1&1\\\\1&1\\end{matrix}\\right|=0;|A_3|=\\left|\\begin{matrix} 1&1&0\\\\1&1&1\\\\0&1&1\\end{matrix}\\right|=-1$;则有$|A_4|=1\\left|\\begin{matrix} 1&1&0\\\\1&1&1\\\\0&1&1\\end{matrix}\\right| - 1\\left|\\begin{matrix} 1&1&0\\\\0&1&1\\\\0&1&1\\end{matrix}\\right|=|A_3| - 1|A_2|=-1$"
   ]
  },
  {
   "cell_type": "markdown",
   "metadata": {},
   "source": [
    "- 从矩阵的特殊结构我们可以得到：$|A_n| = |A_{n-1}|-1|A_{n-2}|$,由1组成的n阶三对角矩阵的行列式从1阶开始按照1,0，-1，-1,0,1进行循环"
   ]
  },
  {
   "cell_type": "code",
   "execution_count": null,
   "metadata": {},
   "outputs": [],
   "source": []
  }
 ],
 "metadata": {
  "kernelspec": {
   "display_name": "Python [default]",
   "language": "python",
   "name": "python3"
  },
  "language_info": {
   "codemirror_mode": {
    "name": "ipython",
    "version": 3
   },
   "file_extension": ".py",
   "mimetype": "text/x-python",
   "name": "python",
   "nbconvert_exporter": "python",
   "pygments_lexer": "ipython3",
   "version": "3.5.5"
  },
  "toc": {
   "base_numbering": 1,
   "nav_menu": {},
   "number_sections": true,
   "sideBar": true,
   "skip_h1_title": false,
   "title_cell": "Table of Contents",
   "title_sidebar": "Contents",
   "toc_cell": false,
   "toc_position": {},
   "toc_section_display": true,
   "toc_window_display": false
  }
 },
 "nbformat": 4,
 "nbformat_minor": 2
}
