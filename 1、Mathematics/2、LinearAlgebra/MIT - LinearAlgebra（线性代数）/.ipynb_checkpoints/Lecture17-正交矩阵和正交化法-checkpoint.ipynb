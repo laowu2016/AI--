{
 "cells": [
  {
   "cell_type": "markdown",
   "metadata": {},
   "source": [
    "# 本节重点\n",
    "- 正交基\n",
    "- 正交矩阵\n",
    "- 标准正交"
   ]
  },
  {
   "cell_type": "markdown",
   "metadata": {},
   "source": [
    "## 标准正交向量\n",
    "- 如果两个向量标准正交，有如下性质：\n",
    "$q_i^Tq_j = \\begin{cases} 0\\ \\ \\ if\\ \\ i\\neq j\\\\ 1\\ \\ \\ if\\ \\ i=j \\end{cases}$,标准表示向量长度为1，自己和自己相乘得1，和其他正交的标准向量相乘得0"
   ]
  },
  {
   "cell_type": "markdown",
   "metadata": {},
   "source": [
    "- 标准正交基的作用：他使得计算变好，他让整个计算都方便许多，许多数值线性代数都建立在标准正交向量的基础上，因为他们容易超控，他们从不上溢或者下溢。\n",
    "- 将标准正交向量放入矩阵$Q,即Q=\\left[\\begin{matrix}|&...&|\\\\q_1&...&q_n\\\\|&...&| \\end{matrix}\\right]$\n",
    "- $Q^TQ = \\left[\\begin{matrix}-&q_1^T&-\\\\...&...&...\\\\-&q_n^T&- \\end{matrix}\\right] \\left[\\begin{matrix}|&...&|\\\\q_i&...&q_n\\\\|&...&|\\end{matrix}\\right] = \\overbrace{\\left[\\begin{matrix}1&...&...\\\\...&1&...\\\\...&...&1 \\end{matrix}\\right]}^{I}$\n",
    "- 由于$Q$的列是标准正交的，我们称$Q$为标准正交矩阵\n",
    "- 如果$Q$是方阵，由$Q^TQ=I$可以得出$Q^T=Q^{-1}$\n",
    "- 正交矩阵$Q$举例 $Q = \\left[\\begin{matrix} 1&0&0\\\\0&0&1\\\\0&1&0 \\end{matrix}\\right]$,(Q也是置换矩阵)\n",
    "- $Q=\\left[\\begin{matrix} 1&1\\\\1&-1\\end{matrix}\\right]$,这并不是正交矩阵，虽然这两个列向量是正交的，但是他们的长度不为1\n",
    "- 阿德玛矩阵是一种只有1和-1的正交矩阵，并不是每个维度都可以构造出这种矩阵，阿德玛矩阵例子：$Q = \\frac{1}{2}\\left[\\begin{matrix} 1&1&1&1\\\\1&-1&1&-1\\\\1&1&-1&-1\\\\1&-1&-1&1 \\end{matrix}\\right]$"
   ]
  },
  {
   "cell_type": "markdown",
   "metadata": {},
   "source": [
    "## 正交矩阵的好处\n",
    "- 将矩阵$Q = \\left[\\begin{matrix} 1&-2&2\\\\2&-1&-2\\\\2&2&1 \\end{matrix}\\right]$变为标准正交矩阵，只需要用矩阵除以向量的长度便可以了，即$Q = \\frac{1}{3}\\left[\\begin{matrix} 1&-2&2\\\\2&-1&-2\\\\2&2&1 \\end{matrix}\\right]$"
   ]
  },
  {
   "cell_type": "markdown",
   "metadata": {},
   "source": [
    "- 标准正交矩阵的好处\n",
    ">- Q表示标准正交列向量矩阵，那么要投影到列空间中，那其投影矩阵是什么？$P=Q(Q^TQ)^{-1}Q^T=QQ^T$，只要列向量是标准正交基，这就是他的投影矩阵\n",
    ">- 如果矩阵为标准正交矩阵，那么一切计算都会变得简单，例如$A^TA\\hat{x} = A^Tb$此时就变为了$Q^TQ\\hat{x} = Q^Tb \\rightarrow \\hat{x} = Q^Tb$,这个式子以为着$\\hat{x}_i = q_i^Tb$,在第i个基方向上的投影就等于$q_i^Tb$"
   ]
  },
  {
   "cell_type": "markdown",
   "metadata": {},
   "source": [
    "## 线性无关向量将其标准正交化"
   ]
  },
  {
   "cell_type": "code",
   "execution_count": 2,
   "metadata": {},
   "outputs": [],
   "source": [
    "import numpy as np\n",
    "import matplotlib.pyplot as plt"
   ]
  },
  {
   "cell_type": "code",
   "execution_count": 32,
   "metadata": {},
   "outputs": [
    {
     "data": {
      "image/png": "[encoded data removed]",
      "text/plain": [
       "<Figure size 720x720 with 1 Axes>"
      ]
     },
     "metadata": {},
     "output_type": "display_data"
    }
   ],
   "source": [
    "a1 = np.array([1,1])\n",
    "a2 = np.array([4,1])\n",
    "\n",
    "b1 = np.array([1,1])\n",
    "b2 = np.array([3,4])\n",
    "\n",
    "c1 = np.array([3,1])\n",
    "c2 = np.array([3,4])\n",
    "\n",
    "d1 = np.array([1,1])\n",
    "d2 = np.array([1,4])\n",
    "\n",
    "fig = plt.figure(figsize=(10,10))\n",
    "ax = fig.add_subplot(111)\n",
    "ax.arrow(a1[0], a1[1], a2[0]-a1[0], a2[1]-a1[1],\n",
    "         width=0.01,\n",
    "         length_includes_head=True, \n",
    "         head_width=0.25, \n",
    "         head_length=0.5, \n",
    "         fc='b', \n",
    "         ec='b')\n",
    "ax.set_aspect('equal')\n",
    "\n",
    "ax.arrow(b1[0], b1[1], b2[0]-b1[0], b2[1]-b1[1],\n",
    "             width=0.01,\n",
    "             length_includes_head=True, # 增加的长度包含箭头部分\n",
    "              head_width=0.25,\n",
    "              head_length=0.5,\n",
    "             fc='b',\n",
    "             ec='b')\n",
    "\n",
    "ax.arrow(c1[0], c1[1], c2[0]-c1[0], c2[1]-c1[1],\n",
    "             width=0.01,\n",
    "             length_includes_head=True, # 增加的长度包含箭头部分\n",
    "              head_width=0.25,\n",
    "              head_length=0.5,\n",
    "             fc='r',\n",
    "             ec='r',\n",
    "             linestyle=\"--\")\n",
    "\n",
    "ax.arrow(d1[0], d1[1], d2[0]-d1[0], d2[1]-d1[1],\n",
    "             width=0.01,\n",
    "             length_includes_head=True, # 增加的长度包含箭头部分\n",
    "              head_width=0.25,\n",
    "              head_length=0.5,\n",
    "             fc='k',\n",
    "             ec='k')\n",
    "\n",
    "ax.set_xlim(-1, 5)\n",
    "ax.set_ylim(-1, 5)\n",
    "ax.grid()\n",
    "ax.set_aspect('equal')\n",
    "\n",
    "ax.text(4.2,1,\"a  A\", fontsize=20)\n",
    "ax.text(3,4.2, \"b\", fontsize=20)\n",
    "ax.text(3,2,\"e\", fontsize=20)\n",
    "ax.text(1,4.2, \"B\", fontsize=20)\n",
    "plt.show()"
   ]
  },
  {
   "cell_type": "markdown",
   "metadata": {},
   "source": [
    "- 格拉姆-施密特正交化法：使线性无关的列向量标准正交的一种方法,如上图，通过此方法可以得到正交的向量组$A，B$，从而得到标准正交向量组$q1=\\frac{A}{||A||},q2=\\frac{B}{||B||}$，即从任意两个向量求得正交向量\n",
    "- 对于第一个向量好办，让他的方向保持不变，对于第二个向量，我希望从中求的一个向量使其正交与A,之前在投影一章中的至少可知，向量B就是我们之前的e，因此向量$B = b-\\frac{A^Tb}{A^TA}A$,有了向量B和A，则标准正交向量易得"
   ]
  },
  {
   "cell_type": "raw",
   "metadata": {},
   "source": [
    "# 骝马新跨白玉鞍，战罢沙场月色寒，城头铁鼓声犹震，匣里金刀血未干"
   ]
  },
  {
   "cell_type": "markdown",
   "metadata": {},
   "source": [
    "# 多个线性无关向量求其正交向量的方法\n",
    "- 假设向量a、b、c线性无关，现在要求第三个正交向量C，他与向量A和B都正交，方法同上，零A保持a的方向不变，求出B，然后求出分别与B和A都正交的向量C\n",
    "- $求向量C的公式：C= c - \\frac{A^Tc}{A^TA}A - \\frac{B^Tb}{B^TB}B$"
   ]
  },
  {
   "cell_type": "markdown",
   "metadata": {},
   "source": [
    "- 例子：$a = \\left[\\begin{matrix} 1\\\\1\\\\1 \\end{matrix}\\right]=A;b = \\left[\\begin{matrix} 1\\\\0\\\\2 \\end{matrix}\\right];B=\\overbrace{\\left[\\begin{matrix} 1\\\\0\\\\2 \\end{matrix}\\right]}^{b} - \\overbrace{\\frac{3}{3}}^{\\frac{A^Tb}{A^TA}}\\overbrace{\\left[\\begin{matrix} 1\\\\1\\\\1 \\end{matrix}\\right]}^{A}=\\left[\\begin{matrix} 0\\\\-1\\\\1 \\end{matrix}\\right]$\n",
    "- $Q=\\left[\\begin{matrix} q_1&q_2 \\end{matrix}\\right]=\\left[\\begin{matrix} \\frac{1}{\\sqrt{3}}&0\\\\\\frac{1}{\\sqrt{3}}& -\\frac{1}{\\sqrt{2}} \\\\ \\frac{1}{\\sqrt{3}}&\\frac{1}{\\sqrt{2}}\\end{matrix}\\right]$\n",
    "- 假设原始矩阵为$A=\\left[\\begin{matrix} 1&1\\\\1&0\\\\1&2 \\end{matrix}\\right]$（与上面的A不同），Q的列空间和A的列空间有什么联系？显然他们是同一个列空间"
   ]
  },
  {
   "cell_type": "markdown",
   "metadata": {},
   "source": [
    "- 搞线性代数的人，写消元法如下$A=LU$，而写格拉姆-施密特法的表示则为$A=QR$（R是一个上三角矩阵）,并不会写出以上的公式"
   ]
  },
  {
   "cell_type": "code",
   "execution_count": null,
   "metadata": {},
   "outputs": [],
   "source": []
  }
 ],
 "metadata": {
  "kernelspec": {
   "display_name": "Python [default]",
   "language": "python",
   "name": "python3"
  },
  "language_info": {
   "codemirror_mode": {
    "name": "ipython",
    "version": 3
   },
   "file_extension": ".py",
   "mimetype": "text/x-python",
   "name": "python",
   "nbconvert_exporter": "python",
   "pygments_lexer": "ipython3",
   "version": "3.5.5"
  },
  "toc": {
   "base_numbering": 1,
   "nav_menu": {},
   "number_sections": true,
   "sideBar": true,
   "skip_h1_title": false,
   "title_cell": "Table of Contents",
   "title_sidebar": "Contents",
   "toc_cell": false,
   "toc_position": {},
   "toc_section_display": true,
   "toc_window_display": false
  }
 },
 "nbformat": 4,
 "nbformat_minor": 2
}
