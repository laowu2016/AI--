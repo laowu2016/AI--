{
 "cells": [
  {
   "cell_type": "code",
   "execution_count": 1,
   "metadata": {},
   "outputs": [],
   "source": [
    "import numpy as np\n",
    "import matplotlib.pyplot as plt"
   ]
  },
  {
   "cell_type": "markdown",
   "metadata": {},
   "source": [
    "# 本节重点"
   ]
  },
  {
   "cell_type": "markdown",
   "metadata": {},
   "source": [
    "- 矩阵与方程组的解\n",
    "- 通过方程组引入矩阵：\n",
    ">- 方程组如下：\n",
    "$\\{^{2x-y=0}_{-x+2y=3}$\n",
    ">- 方程组的系数矩阵：\n",
    "方程组的矩阵形式$\\left[\\begin{matrix}2 \\space\\space\\space -1 \\\\ -1 \\space\\space\\space 2 \\end{matrix}\\right] \\left[\\begin{matrix}x \\\\ y\\end{matrix}\\right] = \\left[\\begin{matrix}0 \\\\ 3 \\end{matrix}\\right]$\n",
    ">- 用系数矩阵表示方程组：\n",
    "$矩阵A=\\left[\\begin{matrix}2 \\space\\space\\space -1 \\\\ -1 \\space\\space\\space 2 \\end{matrix}\\right]$\n",
    "$向量x=\\left[\\begin{matrix}x \\\\ y\\end{matrix}\\right]$\n",
    "$结果向量b=\\left[\\begin{matrix}0 \\\\ 3 \\end{matrix}\\right]$\n",
    "则线性方程组可以表示为：$Ax=b$"
   ]
  },
  {
   "cell_type": "markdown",
   "metadata": {},
   "source": [
    "## 行图像\n",
    "- 以上方程组的**行图像**如下：\n",
    ">- 一次取一行，作图于xy平面"
   ]
  },
  {
   "cell_type": "code",
   "execution_count": 10,
   "metadata": {},
   "outputs": [
    {
     "data": {
      "text/plain": [
       "Text(1,2,'the solution of Equations set:x=1,y=2')"
      ]
     },
     "execution_count": 10,
     "metadata": {},
     "output_type": "execute_result"
    },
    {
     "data": {
      "image/png": "[encoded data removed]",
      "text/plain": [
       "<Figure size 432x288 with 1 Axes>"
      ]
     },
     "metadata": {},
     "output_type": "display_data"
    }
   ],
   "source": [
    "x = np.arange(-10,10)\n",
    "y = 2*x\n",
    "plt.plot(x,y)\n",
    "plt.text(2.5,10,\"this line is the solution of 2x-y=0\")\n",
    "\n",
    "x_1 = np.arange(-10,10)\n",
    "y_1 = (3+x_1)/2\n",
    "plt.plot(x_1,y_1)\n",
    "plt.text(-9,-5,\"this line is the solution of -x+2y=3\")\n",
    "plt.text(1,2,\"the solution of Equations set:x=1,y=2\")"
   ]
  },
  {
   "cell_type": "markdown",
   "metadata": {},
   "source": [
    "## 列图像\n",
    "- 列图像是关键：列图像的表示\n",
    ">- $x\\left[\\begin{matrix} 2 \\\\ -1 \\end{matrix}\\right] + y\\left[\\begin{matrix}-1 \\\\ 2 \\end{matrix}\\right]=\\left[\\begin{matrix} 0 \\\\ 3 \\end{matrix}\\right]$\n",
    "- 以上方程组的目的是什么？\n",
    ">- 方程组的目的是寻找如何将向量$\\left[\\begin{matrix} 2 \\\\ -1 \\end{matrix}\\right]$和向量$\\left[\\begin{matrix}-1 \\\\ 2 \\end{matrix}\\right]$正确组合，从而构造向量$\\left[\\begin{matrix} 0 \\\\ 3 \\end{matrix}\\right]$,这就需要找到正确的线性组合，以上式子便是线性组合，而且是列向量的线性组合"
   ]
  },
  {
   "cell_type": "markdown",
   "metadata": {},
   "source": [
    "### 引出问题\n",
    "- 向量$\\left[\\begin{matrix} 2 \\\\ -1 \\end{matrix}\\right]$和向量$\\left[\\begin{matrix}-1 \\\\ 2 \\end{matrix}\\right]$所有的线性组合又是什么（即取任所有的x和y）？\n",
    ">- 这两个向量的组合会布满整个坐标平面"
   ]
  },
  {
   "cell_type": "markdown",
   "metadata": {},
   "source": [
    "# 三个变量的方程组\n",
    "- $\\begin{cases} 2x-y=0 \\\\ x+2y-z=-1 \\\\ 3y+4z=4 \\end{cases}$\n",
    ">- 以上式子$A=\\left[\\begin{matrix}2 & -1 & 0 \\\\ 1 & 2 & -1 \\\\ 0 & 3 & 4 \\end{matrix}\\right];b=\\left[\\begin{matrix}0 \\\\ -1 \\\\ 4 \\end{matrix}\\right]$\n",
    ">- 对于这个线性方程组，每一个行图像就是一个平面"
   ]
  },
  {
   "cell_type": "markdown",
   "metadata": {},
   "source": [
    "- 列图像\n",
    ">- $x\\left[\\begin{matrix}2\\\\-1\\\\0 \\end{matrix}\\right]+y\\left[\\begin{matrix}-1\\\\2\\\\3 \\end{matrix}\\right]+z\\left[\\begin{matrix}0\\\\-1\\\\4 \\end{matrix}\\right]=\\left[\\begin{matrix}0\\\\-1\\\\4 \\end{matrix}\\right]$\n",
    ">- 等号左边现在就是一个线性组合了\n",
    ">- 对任意b，是否都能求解Ax=b?（这个问题其本质是，对列的线性组合是否能够覆盖整个三维空间？）\n",
    ">- 对于上面的矩阵A，答案是yes，这个矩阵是非奇异矩阵，他是可逆矩阵\n",
    ">- 消元法可以解有解的方程组（什么是消元法？如何判断方程组有解？）\n",
    ">- 什么时候通过这三列向量无法通过组合得到b？1）如果三列向量都在一个面上，那么显然只有当b也在这个平面上时才有解，这种情形成为奇异，矩阵并非可逆，并不是所有b都有解。"
   ]
  },
  {
   "cell_type": "markdown",
   "metadata": {},
   "source": [
    "- 矩阵乘向量\n",
    ">- $\\left[\\begin{matrix}2&5\\\\1&3 \\end{matrix}\\right] \\left[\\begin{matrix}1\\\\2 \\end{matrix}\\right]=b$求b\n",
    ">- 解法1：$\\left[\\begin{matrix}2&5\\\\1&3 \\end{matrix}\\right] \\left[\\begin{matrix}1\\\\2 \\end{matrix}\\right]=1\\left[\\begin{matrix}2\\\\1 \\end{matrix}\\right]+2\\left[\\begin{matrix}5\\\\3 \\end{matrix}\\right]=\\left[\\begin{matrix}12\\\\7 \\end{matrix}\\right]$"
   ]
  },
  {
   "cell_type": "markdown",
   "metadata": {},
   "source": [
    ">- 解法2：用矩阵的每一行点乘向量$\\left[\\begin{matrix}2&5\\\\1&3 \\end{matrix}\\right] \\left[\\begin{matrix}1\\\\2 \\end{matrix}\\right]=\\left[\\begin{matrix}[2&5]*[1&2] \\\\ [1&3]*[1&2] \\end{matrix}\\right]=\\left[\\begin{matrix}2*1+5*2\\\\1*1+3*2 \\end{matrix}\\right]=\\left[\\begin{matrix}12\\\\7 \\end{matrix}\\right]$\n",
    ">- 老师习惯解法1，将Ax看作A各列的线性组合（老师建议采用这种方法）"
   ]
  },
  {
   "cell_type": "code",
   "execution_count": null,
   "metadata": {},
   "outputs": [],
   "source": []
  }
 ],
 "metadata": {
  "kernelspec": {
   "display_name": "Python [default]",
   "language": "python",
   "name": "python3"
  },
  "language_info": {
   "codemirror_mode": {
    "name": "ipython",
    "version": 3
   },
   "file_extension": ".py",
   "mimetype": "text/x-python",
   "name": "python",
   "nbconvert_exporter": "python",
   "pygments_lexer": "ipython3",
   "version": "3.5.5"
  },
  "toc": {
   "base_numbering": 1,
   "nav_menu": {},
   "number_sections": true,
   "sideBar": true,
   "skip_h1_title": false,
   "title_cell": "Table of Contents",
   "title_sidebar": "Contents",
   "toc_cell": false,
   "toc_position": {},
   "toc_section_display": true,
   "toc_window_display": false
  }
 },
 "nbformat": 4,
 "nbformat_minor": 2
}
