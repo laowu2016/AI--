{
 "cells": [
  {
   "cell_type": "markdown",
   "metadata": {},
   "source": [
    "# 本节重点\n",
    "- 矩阵列空间\n",
    "- 零空间"
   ]
  },
  {
   "cell_type": "markdown",
   "metadata": {},
   "source": [
    "- 假设平面P是子空间，直线L也是子空间，那么$P\\bigcup L$所构成的空间是子空间吗？答案：不是。\n",
    "- 假设平面P是子空间，直线L也是子空间，那么$P\\bigcap L$所构成的空间是子空间吗？答案：是。"
   ]
  },
  {
   "cell_type": "markdown",
   "metadata": {},
   "source": [
    "- 假设有子空间S和T那么$S\\bigcap T$也是子空间"
   ]
  },
  {
   "cell_type": "markdown",
   "metadata": {},
   "source": [
    "## 矩阵的列空间（针对$Ax=b$中的A）"
   ]
  },
  {
   "cell_type": "markdown",
   "metadata": {},
   "source": [
    "- 矩阵$A=\\left[\\begin{matrix} 1&1&2\\\\2&1&3\\\\3&1&4\\\\4&1&5 \\end{matrix}\\right]$,他的列空间$C(A)$是什么：矩阵A所有列向量的线性组合\n",
    "- 问：C(A)有多大？是整个$R^4$空间吗？或者说只是某个真子空间。显然他只是一个真子空间，那么这个空间到底多大呢？\n",
    "- 将以上两个问题和线性方程组联系起来（本课的目的）：\n",
    ">- [x] $Ax=\\left[\\begin{matrix} 1&1&2\\\\2&1&3\\\\3&1&4\\\\4&1&5 \\end{matrix}\\right] \\left[\\begin{matrix} x_1\\\\x_2\\\\x_3 \\end{matrix}\\right]=\\left[\\begin{matrix} b_1\\\\b_2\\\\b_3\\\\b_4 \\end{matrix}\\right]$是否对任意b都有解？（并不总是有解：因为3个列向量的线性组合无法充满整个四维空间）\n",
    ">- [x] 什么样的b使方程组有解？(很重要)\n",
    ">>- 当b为0向量时方程组一定有解\n",
    ">>- 总结：Ax=b有解，当且仅当b属于A的列空间时。\n",
    "- 在矩阵A中，由于第三列可以由第三列和第二列相加而来，所以第三列对形成空间没有任何帮助，因此A的列空间可以描述为$R^4$中的二维子空间"
   ]
  },
  {
   "cell_type": "markdown",
   "metadata": {},
   "source": [
    "## 零空间 （针对$Ax=b$中的x）"
   ]
  },
  {
   "cell_type": "markdown",
   "metadata": {},
   "source": [
    "- A的零空间包含什么？：他不包含右侧向量b。他包含Ax=0中所有的解x,现在关心的b只有一个，即$b=\\left[\\begin{matrix} 0\\\\0\\\\0\\\\0 \\end{matrix}\\right]$\n",
    "- 求零空间和列空间的一般方法是通过消元\n",
    "- 零空间必然包含零\n",
    "- 对于1.1中的矩阵A，他的零空间为$c\\left[\\begin{matrix} 1\\\\1\\\\-1 \\end{matrix}\\right]$,为$R^3$中的一条直线"
   ]
  },
  {
   "cell_type": "markdown",
   "metadata": {},
   "source": [
    "## 检验:$Ax=0$的解构成一个子空间"
   ]
  },
  {
   "cell_type": "markdown",
   "metadata": {},
   "source": [
    "- 如果x也是一个子空间，那么就必须要满足加法和乘法封闭原则，假设$Av=0;Aw=0;则A(v+w)=Av+Aw=0+0=0$显然满足加法法则；假设$Av=0;则A(cv)=cAv = c*0=0$显然也满足乘法法则，所以Ax=0的解也构成一个子空间"
   ]
  },
  {
   "cell_type": "markdown",
   "metadata": {},
   "source": [
    "## 理解向量空间的关键\n",
    "- $Ax=\\left[\\begin{matrix} 1&1&2\\\\2&1&3\\\\3&1&4\\\\4&1&5 \\end{matrix}\\right] \\left[\\begin{matrix} 1\\\\0\\\\0 \\end{matrix}\\right]=\\left[\\begin{matrix} 1\\\\2\\\\3\\\\4 \\end{matrix}\\right]$此方程组除了有$\\left[\\begin{matrix} 1\\\\0\\\\0 \\end{matrix}\\right]$这个解外还有其他解吗？这些解构成向量空间吗？\n",
    ">- [x] 不能构成向量空间，因为所有的解x中不包含零向量"
   ]
  },
  {
   "cell_type": "code",
   "execution_count": null,
   "metadata": {},
   "outputs": [],
   "source": []
  }
 ],
 "metadata": {
  "kernelspec": {
   "display_name": "Python [default]",
   "language": "python",
   "name": "python3"
  },
  "language_info": {
   "codemirror_mode": {
    "name": "ipython",
    "version": 3
   },
   "file_extension": ".py",
   "mimetype": "text/x-python",
   "name": "python",
   "nbconvert_exporter": "python",
   "pygments_lexer": "ipython3",
   "version": "3.5.5"
  },
  "toc": {
   "base_numbering": 1,
   "nav_menu": {},
   "number_sections": true,
   "sideBar": true,
   "skip_h1_title": false,
   "title_cell": "Table of Contents",
   "title_sidebar": "Contents",
   "toc_cell": false,
   "toc_position": {},
   "toc_section_display": true,
   "toc_window_display": false
  }
 },
 "nbformat": 4,
 "nbformat_minor": 2
}
