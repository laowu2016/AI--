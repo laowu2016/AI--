{
 "cells": [
  {
   "cell_type": "markdown",
   "metadata": {},
   "source": [
    "# 线性无关\n",
    "- 存在向量$x_1,x_2...x_n$,如果这些向量线性无关，那么$c_1x_1+c_2x_2+...+c_nx_n \\neq 0$(排除所有$c_j=0$的情况)，即所有向量的线性组合不会得到0，那么这些向量是线性无关的。如果存在为0的组合，那么向量是线性相关的。\n",
    "- 如果向量组里面包含了一个零向量，那么他们就不可能线性无关了"
   ]
  },
  {
   "cell_type": "markdown",
   "metadata": {},
   "source": [
    "- 在二维空间中，如果有两个向量是线性无关的，那么在找一个方向与前两个向量不同的向量，那么这三个向量是线性相关的吗？显然是相关的，因为任意两个线性无关的向量通过线性组合就可以得到整个二维平面，显然第三个向量无论是任何向量都与前两个向量线性相关"
   ]
  },
  {
   "cell_type": "markdown",
   "metadata": {},
   "source": [
    "- 假设$v_1....v_n$都是A的列向量，换言之，假设在一个m维空间中，如果他们是无关的，那么矩阵A的零空间**只有零向量，此时矩阵的秩rank=n，并无自由列，自由列的实质在于：他们是主列的线性组合**\n",
    "- 假设$v_1....v_n$都是A的列向量，换言之，假设在一个m维空间中，如果他们是相关的，那么矩阵A的零空间中除了零向量外还存在一些其他非零的向量，此时矩阵的秩rank<n"
   ]
  },
  {
   "cell_type": "markdown",
   "metadata": {},
   "source": [
    "# 向量组生成空间\n",
    "- 向量组生成一个空间是什么意思？已知矩阵里面有一些列向量，这些列向量的所有线性组合将生成一个“列空间”"
   ]
  },
  {
   "cell_type": "markdown",
   "metadata": {},
   "source": [
    "- 向量$v_1...v_l$生成一个空间的意思是，这个空间包含这些向量的所有线性组合"
   ]
  },
  {
   "cell_type": "markdown",
   "metadata": {},
   "source": [
    "- 如果给出一个向量组，然后说：令\"S\"为他们的生成空间，这表示“S”包含向量组所有的线性组合，“S”是包含这些向量的空间中最小的一个，因为任何包含这些向量的空间必须包含向量组的所有线性组合，如果仅仅包含这些组合，我们就得到一个最小的空间，这个空间就是向量组生成的空间。"
   ]
  },
  {
   "cell_type": "markdown",
   "metadata": {},
   "source": [
    "# 基"
   ]
  },
  {
   "cell_type": "markdown",
   "metadata": {},
   "source": [
    "- 如果要找到向量组或矩阵列生成的空间，就需要找到适当个数的向量，若个数不足，则不能生成所需要的空间，若个数过多，则有可能不是线性无关的，因此带出“基”的概念，他包含向量的个数不多不少，他的定义如下：向量空间的一组“基”是指：一系列的向量$v_1,v_2..._vd$,这些向量具有两个特性，“向量的个数足够但又不会太多”,他们的两个性质如下：\n",
    ">- 他们是线性无关的\n",
    ">- 他们生成整个空间"
   ]
  },
  {
   "cell_type": "markdown",
   "metadata": {},
   "source": [
    "## 例子\n",
    "- 找出三维空间的基：$\\left[\\begin{matrix} 1\\\\0\\\\0 \\end{matrix}\\right],\\left[\\begin{matrix} 0\\\\1\\\\0 \\end{matrix}\\right],\\left[\\begin{matrix} 0\\\\0\\\\1 \\end{matrix}\\right]$"
   ]
  },
  {
   "cell_type": "markdown",
   "metadata": {},
   "source": [
    "- 对于给定的空间，空间中的任意基都满足基向量的个数相等"
   ]
  },
  {
   "cell_type": "markdown",
   "metadata": {},
   "source": [
    "# 维数\n",
    "- 基向量的个数既是维数，也是空间的维度"
   ]
  },
  {
   "cell_type": "markdown",
   "metadata": {},
   "source": [
    "- $dimC(A)=r$\n",
    "- $N(A) = \\# free\\ variables=n-r$"
   ]
  },
  {
   "cell_type": "code",
   "execution_count": null,
   "metadata": {},
   "outputs": [],
   "source": []
  }
 ],
 "metadata": {
  "kernelspec": {
   "display_name": "Python [default]",
   "language": "python",
   "name": "python3"
  },
  "language_info": {
   "codemirror_mode": {
    "name": "ipython",
    "version": 3
   },
   "file_extension": ".py",
   "mimetype": "text/x-python",
   "name": "python",
   "nbconvert_exporter": "python",
   "pygments_lexer": "ipython3",
   "version": "3.5.5"
  },
  "toc": {
   "base_numbering": 1,
   "nav_menu": {},
   "number_sections": true,
   "sideBar": true,
   "skip_h1_title": false,
   "title_cell": "Table of Contents",
   "title_sidebar": "Contents",
   "toc_cell": false,
   "toc_position": {},
   "toc_section_display": true,
   "toc_window_display": false
  }
 },
 "nbformat": 4,
 "nbformat_minor": 2
}
