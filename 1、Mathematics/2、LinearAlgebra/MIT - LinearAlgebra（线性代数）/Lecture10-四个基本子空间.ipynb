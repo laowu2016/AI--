{
 "cells": [
  {
   "cell_type": "markdown",
   "metadata": {},
   "source": [
    "# 本节重点\n",
    "- 纠正第九课的错误\n",
    "- 讲解4个人基本空间\n",
    "## 纠正\n",
    ">- 在第九讲中，以$R^3$空间为例，找出了两组基，第一组基为$\\left[\\begin{matrix} 1\\\\0\\\\0 \\end{matrix}\\right],\\left[\\begin{matrix} 0\\\\1\\\\0 \\end{matrix}\\right],\\left[\\begin{matrix} 0\\\\0\\\\1 \\end{matrix}\\right]$,这一组基并不存在问题;但是当老爷子找第二组基的时候出问题了，他找的这组基如下：$\\left[\\begin{matrix} 1\\\\1\\\\2 \\end{matrix}\\right],\\left[\\begin{matrix} 2\\\\2\\\\5 \\end{matrix}\\right],\\left[\\begin{matrix} 3\\\\3\\\\8 \\end{matrix}\\right]$,单从这组基的列来看似乎是正确的，但是这组基组成的矩阵并不是一个可逆矩阵，那么第三列就必然和前两列线性相关"
   ]
  },
  {
   "cell_type": "markdown",
   "metadata": {},
   "source": [
    "## 4个基本子空间"
   ]
  },
  {
   "cell_type": "markdown",
   "metadata": {},
   "source": [
    "- A矩阵形状为（m，n）\n",
    "- [x] 矩阵A的列空间$C(A)$，在$R^m$空间中，其基为$r$\n",
    "- [x] 矩阵A的零空间$N(A)$，在$R^n$空间中，其基为$n-r$\n",
    "- [x] 矩阵A的行空间$C(A^T)$，在$R^n$空间中，其基为$r$\n",
    "- [x] 矩阵A的左零空间$N(A^T)$，在$R^m$空间中，其基为$m-r$\n",
    "\n",
    "- 行空间和列空间有相同的维数,他们的基都为r"
   ]
  },
  {
   "cell_type": "markdown",
   "metadata": {},
   "source": [
    "- 例子\n",
    ">- 矩阵$A=\\left[\\begin{matrix} 1&2&3\\\\1&2&3\\\\2&5&8 \\end{matrix}\\right]$\n",
    ">>- $C(A)=C(A^T)=R^2$\n",
    ">>- $N(A)=R^1$"
   ]
  },
  {
   "cell_type": "markdown",
   "metadata": {},
   "source": [
    "## 左零空间\n",
    "- 我和$N(A^T)$又被称为左零空间，因为我想使用$A$进行矩阵运算而不是$A^T$,因此对等式两边同时转置，即$A^Ty=0;-->y^TA=0^T$,所以称为左零空间"
   ]
  },
  {
   "cell_type": "markdown",
   "metadata": {},
   "source": [
    "# 把矩阵看作向量"
   ]
  },
  {
   "cell_type": "code",
   "execution_count": null,
   "metadata": {},
   "outputs": [],
   "source": []
  }
 ],
 "metadata": {
  "kernelspec": {
   "display_name": "Python [default]",
   "language": "python",
   "name": "python3"
  },
  "language_info": {
   "codemirror_mode": {
    "name": "ipython",
    "version": 3
   },
   "file_extension": ".py",
   "mimetype": "text/x-python",
   "name": "python",
   "nbconvert_exporter": "python",
   "pygments_lexer": "ipython3",
   "version": "3.5.5"
  },
  "toc": {
   "base_numbering": 1,
   "nav_menu": {},
   "number_sections": true,
   "sideBar": true,
   "skip_h1_title": false,
   "title_cell": "Table of Contents",
   "title_sidebar": "Contents",
   "toc_cell": false,
   "toc_position": {},
   "toc_section_display": true,
   "toc_window_display": false
  }
 },
 "nbformat": 4,
 "nbformat_minor": 2
}
