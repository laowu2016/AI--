{
 "cells": [
  {
   "cell_type": "markdown",
   "metadata": {},
   "source": [
    "# 本节重点"
   ]
  },
  {
   "cell_type": "markdown",
   "metadata": {},
   "source": [
    "- 转置\n",
    "- 置换\n",
    "- 向量空间"
   ]
  },
  {
   "cell_type": "markdown",
   "metadata": {},
   "source": [
    "## 置换矩阵\n",
    "- 置换矩阵：记作P，是用来完成行互换的矩阵；例如当我们进行消元是，如果主元出现0，就要用置换矩阵进行行互换。\n",
    "- 如何进行行互换：PA=LU，矩阵P将A的行互换为正确的格式，保证在A的主元中没有0存在，这使得A经过分解后，依然可以得到LU（L为下三角矩阵，U为上三角矩阵），对于可逆矩阵，我们都可以采用PA=LU进行行互换\n",
    "- 置换矩阵是什么样子：P->行重新排列了的单位矩阵；对于矩阵有多少置换矩阵：n!,例如4阶置换矩阵共有24个\n",
    "- 置换矩阵的优良性质：可逆，并且其逆矩阵与其转置相等$P^{-1}=P^T;P^TP=I$"
   ]
  },
  {
   "cell_type": "markdown",
   "metadata": {},
   "source": [
    "## 转置"
   ]
  },
  {
   "cell_type": "markdown",
   "metadata": {},
   "source": [
    "- 转置的公式：$(A^T)_{ij}=A_{ji}$"
   ]
  },
  {
   "cell_type": "markdown",
   "metadata": {},
   "source": [
    "### 对称矩阵\n",
    "- 转置之后，矩阵没有改变，即为对称矩阵$A^T=A$\n",
    "- 创建对称矩阵的一种方法：$A = \\left[\\begin{matrix} 1&3\\\\2&3\\\\4&1 \\end{matrix}\\right]; A^T = \\left[\\begin{matrix} 1&2&4\\\\3&3&1 \\end{matrix}\\right]; B = A*A^T = \\left[\\begin{matrix} 10&11&7 \\\\ 11&13&11 \\\\7&11&17 \\end{matrix}\\right]$显然B是一个对称矩阵\n",
    "- $R^T*R$总是一个对称矩阵\n",
    "- 为何$R^TR$总是一个对称矩阵，证明：$(R^TR)^T = R^TR^{TT}=R^TR$得证"
   ]
  },
  {
   "cell_type": "markdown",
   "metadata": {},
   "source": [
    "## 向量空间\n",
    "- 并不是任意向量的组合都能称为空间，必须能够进行加法和数乘运算，必须能够进行线性组合，其得到的结果向量依然在向量空间中；向量空间必须对数乘和加法运算是封闭的，或者说对线性组合封闭（即V+W在空间内，cV也在空间内，即加法封闭和乘法封闭）\n",
    "- 零向量是最重要的向量，因为向量空间要满足任意一个向量乘任意一个数都必须依然在向量空间中，但是如果缺少了零空间，那么例如如果向量a乘0（或加上-a）得到的向量为0向量，就不在空间中了，所以空间中必须包含0向量\n",
    "- 非向量空间的例子：二维坐标的第一象限是否能够成一个向量空间？答案：否，在第一象限内，所有向量均为正，如果他们相加，依然落在第一象限内；但是如果他们乘上负数，就会让结果向量跑到其他象限去，显然这不是一个向量空间"
   ]
  },
  {
   "cell_type": "markdown",
   "metadata": {},
   "source": [
    "### $R^2$的子空间"
   ]
  },
  {
   "cell_type": "markdown",
   "metadata": {},
   "source": [
    "- [x] 过原点的直线\n",
    "- [x] 零向量\n",
    "- [x] $R^2$本身"
   ]
  },
  {
   "cell_type": "markdown",
   "metadata": {},
   "source": [
    "### $R^3$的子空间\n",
    "- [x] $R^3$本身\n",
    "- [x] 过原点的平面\n",
    "- [x] 过原点的直线\n",
    "- [x] 零向量"
   ]
  },
  {
   "cell_type": "markdown",
   "metadata": {},
   "source": [
    "### 矩阵是如何构造子空间的\n",
    "- 例:$A = \\left[\\begin{matrix} 1&3\\\\2&3\\\\4&1 \\end{matrix}\\right]$,他的所有线性组合构成一个在$R^3$下的子空间（什么是线性组合：他是指列一乘以某数，列二乘以某数，然后相加。它包括两种运算，即数乘和加法）；只要包含了所有的线性组合，那么就必然得到向量子空间，在这里他有一个名字，叫**“列空间”**，记为$C(A)$"
   ]
  },
  {
   "cell_type": "raw",
   "metadata": {},
   "source": [
    "## 下一讲预告：如何用向量空间和列空间理解Ax=b"
   ]
  },
  {
   "cell_type": "code",
   "execution_count": null,
   "metadata": {},
   "outputs": [],
   "source": []
  }
 ],
 "metadata": {
  "kernelspec": {
   "display_name": "Python [default]",
   "language": "python",
   "name": "python3"
  },
  "language_info": {
   "codemirror_mode": {
    "name": "ipython",
    "version": 3
   },
   "file_extension": ".py",
   "mimetype": "text/x-python",
   "name": "python",
   "nbconvert_exporter": "python",
   "pygments_lexer": "ipython3",
   "version": "3.5.5"
  },
  "toc": {
   "base_numbering": 1,
   "nav_menu": {},
   "number_sections": true,
   "sideBar": true,
   "skip_h1_title": false,
   "title_cell": "Table of Contents",
   "title_sidebar": "Contents",
   "toc_cell": false,
   "toc_position": {},
   "toc_section_display": true,
   "toc_window_display": false
  }
 },
 "nbformat": 4,
 "nbformat_minor": 2
}
