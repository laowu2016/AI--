{
 "cells": [
  {
   "cell_type": "markdown",
   "metadata": {},
   "source": [
    "# A矩阵不可逆的条件有如下7条\n",
    "- [x] $|A|=0$\n",
    "- [x] $A的行或列向量线性相关$\n",
    "- [x] $R(A)<n$\n",
    "- [x] $Ax=0有非零解$\n",
    "- [x] A有特征值0\n",
    "- [x] A不能表示成初等矩阵的乘积\n",
    "- [x] A的等价标准形不是单位矩阵\n",
    "扩展资料\n",
    "- ![jupyter](https://gss0.baidu.com/9vo3dSag_xI4khGko9WTAnF6hhy/zhidao/wh%3D600%2C800/sign=16b32f44b599a9013b6053302da52643/80cb39dbb6fd5266d995cf44a618972bd4073627.jpg)"
   ]
  },
  {
   "cell_type": "markdown",
   "metadata": {},
   "source": [
    "# 可逆矩阵的性质\n",
    "- [x] 可逆矩阵一定是方阵。\n",
    "- [x] 如果矩阵A是可逆的，其逆矩阵是唯一的。\n",
    "- [x] A的逆矩阵的逆矩阵还是A。记作（A-1）-1=A。\n",
    "- [x] 可逆矩阵A的转置矩阵AT也可逆，并且（AT）-1=（A-1）T (转置的逆等于逆的转置）\n",
    "- [x] 若矩阵A可逆，则矩阵A满足消去律。即AB=O（或BA=O），则B=O，AB=AC（或BA=CA），则B=C。\n",
    "- [x] 两个可逆矩阵的乘积依然可逆。\n",
    "- [x] 矩阵可逆当且仅当它是满秩矩阵。"
   ]
  },
  {
   "cell_type": "code",
   "execution_count": null,
   "metadata": {},
   "outputs": [],
   "source": []
  }
 ],
 "metadata": {
  "kernelspec": {
   "display_name": "Python [default]",
   "language": "python",
   "name": "python3"
  },
  "language_info": {
   "codemirror_mode": {
    "name": "ipython",
    "version": 3
   },
   "file_extension": ".py",
   "mimetype": "text/x-python",
   "name": "python",
   "nbconvert_exporter": "python",
   "pygments_lexer": "ipython3",
   "version": "3.5.5"
  },
  "toc": {
   "base_numbering": 1,
   "nav_menu": {},
   "number_sections": true,
   "sideBar": true,
   "skip_h1_title": false,
   "title_cell": "Table of Contents",
   "title_sidebar": "Contents",
   "toc_cell": false,
   "toc_position": {},
   "toc_section_display": true,
   "toc_window_display": false
  }
 },
 "nbformat": 4,
 "nbformat_minor": 2
}
