{
 "cells": [
  {
   "cell_type": "markdown",
   "metadata": {},
   "source": [
    "# 本节主要内容\n",
    "- 1）消元；2）回代\n",
    "- 消元法解矩阵，计算机程序应用到的也是这种方法\n",
    "- 讨论什么时候消元法有效，什么时候消元法无效\n",
    "- 用矩阵语言描述消元法\n",
    "- 矩阵乘法"
   ]
  },
  {
   "cell_type": "markdown",
   "metadata": {},
   "source": [
    "# 消元和回代"
   ]
  },
  {
   "cell_type": "markdown",
   "metadata": {},
   "source": [
    "## 求解方程组\n",
    "- $\\begin{cases} x+2y+z=2 \\\\ 3x+8y+z=12 \\\\ 4y+z=2 \\end{cases}$\n",
    ">- 消元法思想：通过对某个式子（例如式子1）乘以某个数，与另一个式子相减，目的是消除式子中的一个元（即x,y,z中的一个），消元法用矩阵运算更加简洁$\\left[\\begin{matrix}[1]&2&1\\\\3&8&1\\\\0&4&1 \\end{matrix}\\right]$。\n",
    ">- 首先定义一个主元,位置为（1,1），则第一行为主元行，因此保持第一行不变，现在要消除（2,1）位置的元，则用第二行减去3倍第一行可以得到如下矩阵$\\left[\\begin{matrix}[1]&2&1\\\\0&[2]&-2\\\\0&4&1 \\end{matrix}\\right]$；\n",
    ">- 消除（3，2）位置的元，此时使用位置（2,2）做为主元，用第三行减去2倍第二行可以得到如下矩阵$\\left[\\begin{matrix}[1]&2&1\\\\0&[2]&-2\\\\0&0&[5]\\end{matrix}\\right]$\n",
    ">- 详细步骤整理如下：\n",
    ">>- $\\left[\\begin{matrix}[1]&2&1\\\\3&8&1\\\\0&4&1 \\end{matrix}\\right] \\overbrace{\\longrightarrow}^{step(2,1)} \\left[\\begin{matrix}[1]&2&1\\\\0&[2]&-2\\\\0&4&1 \\end{matrix}\\right] \\overbrace{\\longrightarrow}^{step(3,2)} \\left[\\begin{matrix}[1]&2&1\\\\0&[2]&-2\\\\0&0&[5]\\end{matrix}\\right]$\n",
    ">>- 将矩阵$\\left[\\begin{matrix}[1]&2&1\\\\0&[2]&-2\\\\0&0&[5]\\end{matrix}\\right]$记作U，U表示上三角矩阵，因此这里消元的目的是从A得到U，这是计算科学中最普遍的计算\n",
    ">>- 注意：0不能作为主元\n",
    ">>- 行列式：以上式子的行列式等于主元之积=10"
   ]
  },
  {
   "cell_type": "markdown",
   "metadata": {},
   "source": [
    "## 消元失效的情形\n",
    "- 失效是指不能得到3个主元，由于0不能作为主元，因此当遇到在主元位置为0时就需要交换行在其他方程中找出合适的主元\n",
    "- 失效有几种情形\n",
    ">>- 如果某个主元失效，例如上面例子中（3,3）位置的5变为0，这样就不存在主元3，则方程组无解，矩阵因此不可逆\n",
    ">>- 行交换可以解决主元的暂时失效问题，但当其下的行中再无非0元素时，则消元就彻底失效了"
   ]
  },
  {
   "cell_type": "markdown",
   "metadata": {},
   "source": [
    "## 增广矩阵\n",
    "- 在以上式子中，将b加入，得到$\\left[\\begin{matrix}[1]&2&1&2\\\\3&8&1&12\\\\0&4&1&2 \\end{matrix}\\right] \\overbrace{\\longrightarrow}^{step(2,1)} \\left[\\begin{matrix}[1]&2&1&2\\\\0&[2]&-2&6\\\\0&4&1&2 \\end{matrix}\\right] \\overbrace{\\longrightarrow}^{step(3,2)} \\left[\\begin{matrix}[1]&2&1&2\\\\0&[2]&-2&6\\\\0&0&[5]&-10\\end{matrix}\\right]$\n",
    "- 以上式子$A=\\left[\\begin{matrix}[1]&2&1\\\\3&8&1\\\\0&4&1 \\end{matrix}\\right]$;$\\left[\\begin{matrix}[1]&2&1\\\\0&[2]&-2\\\\0&0&[5]\\end{matrix}\\right]$,矩阵U是矩阵A的最终结果\n",
    "- 以上式子$b=\\left[\\begin{matrix}2\\\\12\\\\2 \\end{matrix}\\right]$;$c=\\left[\\begin{matrix}2\\\\6\\\\-10 \\end{matrix}\\right]$,向量c是向量b的最终结果\n",
    "- 方程组经过消元后，得到的方程组如下：$\\begin{cases} x+2y+z=2 \\\\ 2y-2z=6 \\\\ 5z=-10 \\end{cases}$，这就是矩阵U和c的方程含义：Ux=c"
   ]
  },
  {
   "cell_type": "markdown",
   "metadata": {},
   "source": [
    "## 如何求解Ux=c？"
   ]
  },
  {
   "cell_type": "markdown",
   "metadata": {},
   "source": [
    "- 显然z=-2，将z带回前面的式子得到x=2，y=1，这就是回代"
   ]
  },
  {
   "cell_type": "markdown",
   "metadata": {},
   "source": [
    "# 矩阵消元\n",
    "- 单位矩阵乘任何矩阵都得到矩阵本身\n",
    "- $\\left[\\begin{matrix}-&-&-\\\\-&-&-\\\\-&-&- \\end{matrix}\\right] \\left[\\begin{matrix}3\\\\4\\\\5 \\end{matrix}\\right]=3*col1+4*col2+5*col3$\n",
    "- $\\left[\\begin{matrix}1&2&7\\end{matrix}\\right] \\left[\\begin{matrix}-&-&-\\\\-&-&-\\\\-&-&- \\end{matrix}\\right] = 1*row1+2*row2+7*row3$"
   ]
  },
  {
   "cell_type": "markdown",
   "metadata": {},
   "source": [
    "## 矩阵消元案例\n",
    "- 矩阵消元每一步都会用到一个初等矩阵\n",
    "- step1:对应于上文中step(2,1),这里需要找出一个矩阵A，从矩阵$B=\\left[\\begin{matrix} 1&2&1\\\\3&8&1\\\\0&4&1 \\end{matrix}\\right]$行2中减去3倍行一，而其他行不变（利用以上第二个矩阵相乘的公式），得到矩阵$C=\\left[\\begin{matrix} 1&2&1\\\\0&2&-2\\\\0&4&1 \\end{matrix}\\right]$，即$A\\left[\\begin{matrix} 1&2&1\\\\3&8&1\\\\0&4&1 \\end{matrix}\\right]=\\left[\\begin{matrix} 1&2&1\\\\0&2&-2\\\\0&4&1 \\end{matrix}\\right]$\n",
    ">- 根据第二个矩阵公式，由于第一行和第三行不变，所以可得：$\\left[\\begin{matrix} 1&0&0\\\\a&b&c\\\\0&0&1 \\end{matrix}\\right] \\left[\\begin{matrix} 1&2&1\\\\3&8&1\\\\0&4&1 \\end{matrix}\\right]=\\left[\\begin{matrix} 1&2&1\\\\0&2&-2\\\\0&4&1 \\end{matrix}\\right]$,即$[a,b,c]\\left[\\begin{matrix} 1&2&1\\\\3&8&1\\\\0&4&1 \\end{matrix}\\right]=[0,2,-2]$,可得$a=-3,b=1,c=0,即\\left[\\begin{matrix} 1&0&0\\\\-3&1&0\\\\0&0&1 \\end{matrix}\\right] \\left[\\begin{matrix} 1&2&1\\\\3&8&1\\\\0&4&1 \\end{matrix}\\right]=\\left[\\begin{matrix} 1&2&1\\\\0&2&-2\\\\0&4&1 \\end{matrix}\\right]$\n",
    ">- 验证：例如要验证矩阵C中的元素C(2,3)=-2是否正确，$C(2,3) = matrixAcol2*matrixBrow3 = [-3,1,0]*\\left[\\begin{matrix}1\\\\1\\\\1 \\end{matrix}\\right]=-3*1+1*1+0*1=-2$\n",
    ">- 矩阵A称作初等矩阵，记为$E_{21}$表示它在位置21上的变换"
   ]
  },
  {
   "cell_type": "markdown",
   "metadata": {},
   "source": [
    "- step2:对应于上文中的step(3,2),这里需要找出一个矩阵A,从矩阵$B=\\left[\\begin{matrix} 1&2&1\\\\0&2&-2\\\\0&4&1 \\end{matrix}\\right]$行3中减去2倍行2，而其他行不变，得到矩阵$C=\\left[\\begin{matrix}[1]&2&1\\\\0&[2]&-2\\\\0&0&[5]\\end{matrix}\\right]$，即$A\\left[\\begin{matrix} 1&2&1\\\\0&2&-2\\\\0&4&1 \\end{matrix}\\right]=\\left[\\begin{matrix}[1]&2&1\\\\0&[2]&-2\\\\0&0&[5]\\end{matrix}\\right]$\n",
    ">- 用上文中相同的方法，可以得到矩阵$A=\\left[\\begin{matrix} 1&0&0\\\\0&1&0\\\\0&-2&1 \\end{matrix}\\right]$记作$E_{32}$"
   ]
  },
  {
   "cell_type": "markdown",
   "metadata": {},
   "source": [
    "## 将所有步骤综合起来\n",
    "- 将矩阵合成一个来考虑，之前的步骤：$E_{32}(E_{21}B)=U$\n",
    "- 矩阵乘法的重要性质：\n",
    ">- 引子：什么矩阵能一次性从A得到U，一次性完成所有消元步骤？\n",
    ">- 结合律：$E_{32}(E_{21}B)=(E_{32}E_{21})B$\n",
    "\n",
    "### 置换矩阵\n",
    "- 置换矩阵（行置换）：$P = \\left[\\begin{matrix} 0&1\\\\1&0\\end{matrix}\\right]; \\left[\\begin{matrix} 0&1\\\\1&0\\end{matrix}\\right] \\left[\\begin{matrix} a&b\\\\c&d\\end{matrix}\\right]=\\left[\\begin{matrix} c&d\\\\a&b\\end{matrix}\\right]$\n",
    "- 置换矩阵（列置换）：$P = \\left[\\begin{matrix} 0&1\\\\1&0\\end{matrix}\\right]; \\left[\\begin{matrix} a&b\\\\c&d\\end{matrix}\\right]\\left[\\begin{matrix} 0&1\\\\1&0\\end{matrix}\\right] =\\left[\\begin{matrix} b&a\\\\d&c\\end{matrix}\\right]$"
   ]
  },
  {
   "cell_type": "markdown",
   "metadata": {},
   "source": [
    "### 逆矩阵\n",
    "- 如何从矩阵U变到矩阵A\n",
    "- $\\overbrace{\\left[\\begin{matrix}1&0&0\\\\3&1&0\\\\0&0&1 \\end{matrix}\\right]}^{E^{-1}} \\overbrace{\\left[\\begin{matrix}1&0&0\\\\-3&1&0\\\\0&0&1 \\end{matrix}\\right]}^{E} = \\overbrace{\\left[\\begin{matrix}1&0&0\\\\0&1&0\\\\0&0&1 \\end{matrix}\\right]}^I$\n",
    "- $E^{-1}$称为逆矩阵;$E$称为初等矩阵;$I$称为单位矩阵"
   ]
  },
  {
   "cell_type": "code",
   "execution_count": null,
   "metadata": {},
   "outputs": [],
   "source": []
  }
 ],
 "metadata": {
  "kernelspec": {
   "display_name": "Python [default]",
   "language": "python",
   "name": "python3"
  },
  "language_info": {
   "codemirror_mode": {
    "name": "ipython",
    "version": 3
   },
   "file_extension": ".py",
   "mimetype": "text/x-python",
   "name": "python",
   "nbconvert_exporter": "python",
   "pygments_lexer": "ipython3",
   "version": "3.5.5"
  },
  "toc": {
   "base_numbering": 1,
   "nav_menu": {},
   "number_sections": true,
   "sideBar": true,
   "skip_h1_title": false,
   "title_cell": "Table of Contents",
   "title_sidebar": "Contents",
   "toc_cell": false,
   "toc_position": {},
   "toc_section_display": true,
   "toc_window_display": false
  }
 },
 "nbformat": 4,
 "nbformat_minor": 2
}
