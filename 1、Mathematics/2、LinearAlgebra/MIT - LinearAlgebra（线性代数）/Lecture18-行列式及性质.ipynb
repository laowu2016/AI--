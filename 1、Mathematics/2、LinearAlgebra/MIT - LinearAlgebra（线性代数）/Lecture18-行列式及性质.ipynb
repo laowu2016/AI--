{
 "cells": [
  {
   "cell_type": "markdown",
   "metadata": {},
   "source": [
    "# 本章主要内容\n",
    "- 行列式：主要针对方阵，每个方阵都有其相关的行列式，将其记作$det A$或者写为$|A|$,行列式是一个神奇的数，他不能包含整个矩阵的信息，但是却将许多信息都包含在了这个数中，例如：\n",
    ">- 矩阵可逆等价于行列式非零（可以校验矩阵的可逆性）\n",
    ">- 行列式为零时矩阵是奇异的\n",
    ">- 行列式的计算方法$|A| = \\left|\\begin{matrix}a&b\\\\c&d \\end{matrix}\\right|=ad-bc$\n",
    "- 求行列式的原因：行列式和特征值\n",
    "- 行列式的三个主要性质\n",
    ">- 性质1：$det I = 1$(单位矩阵的行列式为1)：$|A| = \\left|\\begin{matrix}1&0\\\\0&1 \\end{matrix}\\right|=1$\n",
    ">- 性质2：交换行，行列式的值的符号会相反:$|A| = \\left|\\begin{matrix}0&1\\\\1&0 \\end{matrix}\\right|=-1$；置换矩阵的行列式为+1或-1\n",
    ">- 性质3是关于线性组合的，只改变第一行，其他行不变：\n",
    ">>- 性质3-a:$\\left|\\begin{matrix}ta&tb\\\\c&d \\end{matrix}\\right|=t \\left|\\begin{matrix}a&b\\\\c&d \\end{matrix}\\right|$\n",
    ">>- 性质3-b：$\\left|\\begin{matrix}a+a'&b+b'\\\\c&d \\end{matrix}\\right|=\\left|\\begin{matrix}a&b\\\\c&d \\end{matrix}\\right|+\\left|\\begin{matrix}a'&b'\\\\c&d \\end{matrix}\\right|$\n",
    "- 行列式的性质4：\n",
    ">- 两行相等，行列式为0:假设又两行是相等的，那么我们交换这两行后还是原来的矩阵，所以行列式不变，但是性质二又告诉我们行列式符号变了，那么唯一的可能就是行列式为0\n",
    "- 行列式的性质5：\n",
    ">- 从$k$行中减去$l$倍行$i$,行列式不变，即可以随便进行消元，但是行列式不会改变。\n",
    ">- 证明：利用形状3-a：$\\left|\\begin{matrix}a&b\\\\c-la&d-lb \\end{matrix}\\right| = \\left|\\begin{matrix}a&b\\\\c&d \\end{matrix}\\right|+\\left|\\begin{matrix}a&b\\\\-la&-lb \\end{matrix}\\right|=\\left|\\begin{matrix}a&b\\\\c&d \\end{matrix}\\right|-l\\left|\\begin{matrix}a&b\\\\a&b \\end{matrix}\\right| = \\left|\\begin{matrix}a&b\\\\c&d \\end{matrix}\\right|-0 = \\left|\\begin{matrix}a&b\\\\c&d \\end{matrix}\\right|$\n",
    "- 行列式的性质6：\n",
    ">- 如果以行全是零，那么行列式为0\n",
    "- 行列式的性质7（计算行列式最简单的方法，下一节课的代数余子式次之，大公式最复杂）：\n",
    ">- 有上三角矩阵U,$|U|=\\left|\\begin{matrix}d1&*&*&*\\\\0&d2&*&*\\\\0&0&d3&*\\\\...&...&...&...\\\\0&0&0&dn \\end{matrix}\\right|=d1*d2*d3*...dn$（如果有行交换，结果的符号有可能改变）\n",
    ">- 在计算机中，即使是有1000行，都是先通过消元得到上三角矩阵，从而求行列式，即主对角线元素乘积\n",
    "- 行列式的性质8：\n",
    ">- 当且仅当A是奇异矩阵时，$|A|=0$\n",
    "- 行列式的性质9（与矩阵乘积有关）：\n",
    ">- $det(AB) = det(A)*det(B)$\n",
    ">- 利用此性质如何求A的逆矩阵的行列式？$det(A^{-1}) = \\frac{1}{det(A)}$\n",
    ">- $det(A^2) = (detA)^2$\n",
    ">- $det(2A) = 2^ndet(A)$, n为行数,例如$|A|=det(2*\\left|\\begin{matrix}1&0\\\\0&1 \\end{matrix}\\right|)=det(\\left|\\begin{matrix}2&0\\\\0&2 \\end{matrix}\\right|) = 2^2*1 = 4$\n",
    "- 行列式的性质10：\n",
    ">- $det(A^T)=det(A)$\n",
    ">- 如果存在全零列，行列式也为零"
   ]
  },
  {
   "cell_type": "code",
   "execution_count": null,
   "metadata": {},
   "outputs": [],
   "source": []
  }
 ],
 "metadata": {
  "kernelspec": {
   "display_name": "Python [default]",
   "language": "python",
   "name": "python3"
  },
  "language_info": {
   "codemirror_mode": {
    "name": "ipython",
    "version": 3
   },
   "file_extension": ".py",
   "mimetype": "text/x-python",
   "name": "python",
   "nbconvert_exporter": "python",
   "pygments_lexer": "ipython3",
   "version": "3.5.5"
  },
  "toc": {
   "base_numbering": 1,
   "nav_menu": {},
   "number_sections": true,
   "sideBar": true,
   "skip_h1_title": false,
   "title_cell": "Table of Contents",
   "title_sidebar": "Contents",
   "toc_cell": false,
   "toc_position": {},
   "toc_section_display": true,
   "toc_window_display": false
  }
 },
 "nbformat": 4,
 "nbformat_minor": 2
}
