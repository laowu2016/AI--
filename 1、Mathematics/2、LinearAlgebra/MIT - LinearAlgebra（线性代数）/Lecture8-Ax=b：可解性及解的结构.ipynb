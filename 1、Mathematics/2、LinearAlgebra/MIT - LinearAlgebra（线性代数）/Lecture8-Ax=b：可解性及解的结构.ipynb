{
 "cells": [
  {
   "cell_type": "markdown",
   "metadata": {},
   "source": [
    "# 本节重点"
   ]
  },
  {
   "cell_type": "markdown",
   "metadata": {},
   "source": [
    "- 解方程组$\\begin{cases}x_1+2x_2+2x_3+2x_4=b_1\\\\2x_1+4x_2+6x_3+8x_4=b2\\\\3x_1+6x_2+8x_3+10x_4=b3\\end{cases}$\n",
    "- 以上方程组容易看出，方程3是由方程1加方程2得到，那么要想方程有解，则必须满足$b_1+b_2=b_3$"
   ]
  },
  {
   "cell_type": "markdown",
   "metadata": {},
   "source": [
    "- 解方程组：将方程左右的矩阵合到一起作为增广矩阵可得$\\left[\\begin{array}{lrrr|r} 1&2&2&2&b_1\\\\2&4&6&8&b_2\\\\3&6&8&10&b_3 \\end{array}\\right]=\\left[\\begin{matrix}A&b\\end{matrix}\\right]$\n",
    "- 为何说想要方程组有解必须满足$b_1+b_2=b_3$,对增广矩阵进行消元可得$\\left[\\begin{array}{lrrr|r} 1&2&2&2&b_1\\\\0&0&2&4&b_2-2b_1\\\\0&0&0&0&b_3-b_2-b_1 \\end{array}\\right]$,即方程三变为了$0=b_3-b_2-b_1$,即b必须满足$b_3=b_2+b_1$才有解"
   ]
  },
  {
   "cell_type": "markdown",
   "metadata": {},
   "source": [
    "- 前一节讲了什么样的b才有解，这节换个说法：如果矩阵的行的线性组合得到零行，如上，那么b经过同样的组合后也必须为0才使得方程组有解"
   ]
  },
  {
   "cell_type": "markdown",
   "metadata": {},
   "source": [
    "## 求Ax=b的所有解\n",
    "- 第一步：将所有自由变量设置为0\n",
    "- 第二步：解出Ax=b中的主变量\n",
    "- 第三步：按照以上两步，以$b=\\left[\\begin{matrix}1\\\\5\\\\6 \\end{matrix}\\right]$设置$x_2=x_4=0;将这两个值带入方程组得方程组为：\\begin{cases} x_1+2x_3=1\\\\2x_3=3 \\end{cases};(注意：此处的3是由上面的式子经过消元后得到的b_2-2b_1)可以解出\\begin{cases} x_1=-2\\\\x_3=\\frac{3}{2} \\end{cases}$此时便得到特解1：$x_p=\\left[\\begin{matrix} -2\\\\0\\\\ \\frac{3}{2}\\\\0 \\end{matrix}\\right]$\n",
    "- 第四步：加上零空间中的任意x\n",
    "- 第五步：特解+零空间中的任意x得到所有解，$x=x_p(特解)+x_n(零空间)$\n",
    "- 注意：\n",
    ">- [x] 对于方程组某解，其与零空间内任意向量之和任为解,原因：$\\begin{cases} Ax_p=b\\\\Ax_n=0 \\end{cases};两式相加A(x_p+x_n)=b$\n",
    "- 综上，方程组$Ax=b$的所有解为$x_{complete}=\\left[\\begin{matrix} -2\\\\0\\\\ \\frac{3}{2}\\\\0 \\end{matrix}\\right]+c_1\\left[\\begin{matrix} -2\\\\1\\\\0\\\\0 \\end{matrix}\\right]+c_2\\left[\\begin{matrix} 2\\\\0\\\\-2\\\\1 \\end{matrix}\\right]$；注意：第一个向量并不需要乘常数，因为只在等式Ax=b的一边乘常数会使得等式不再是等式\n",
    "- Ax=b的解是向量空间吗？不是"
   ]
  },
  {
   "cell_type": "markdown",
   "metadata": {},
   "source": [
    "## 满秩矩阵\n",
    "- 秩为r形状为（m，n）的矩阵，有$r\\leq m;r\\leq n$"
   ]
  },
  {
   "cell_type": "markdown",
   "metadata": {},
   "source": [
    "### 列满秩的情况（r=n）\n",
    "- Ax=0的解\n",
    ">- [x] $N(A)(零空间)$内有些什么向量？只有零向量,因为没有自由变量可以赋值\n",
    "- Ax=b的解\n",
    ">- [x] 列满秩时，如果有解，那么解唯一（即只有0个或1个解）"
   ]
  },
  {
   "cell_type": "markdown",
   "metadata": {},
   "source": [
    "- 例子：$A=\\left[\\begin{matrix} 1&3\\\\2&1\\\\6&1\\\\5&1 \\end{matrix}\\right]$"
   ]
  },
  {
   "cell_type": "markdown",
   "metadata": {},
   "source": [
    "### 行满秩的情况（r=m）"
   ]
  },
  {
   "cell_type": "markdown",
   "metadata": {},
   "source": [
    "- 行满秩情况下，$b取什么时，Ax=b有解$。答：对任意b，$Ax=b$都有解\n",
    "- 自由变量有多少个？答：n-r=n-m个"
   ]
  },
  {
   "cell_type": "markdown",
   "metadata": {},
   "source": [
    "### Ax=b的解的情况总结\n",
    "- $r=n=m$:R（行最简形）为单位矩阵I，即$R=I$，此时有唯一解\n",
    "- $r=n<m$:$R=\\left[\\begin{matrix} I\\\\0 \\end{matrix}\\right]$;此时有0个或一个解\n",
    "- $r=m<n$:$R=\\left[\\begin{matrix} I&F \\end{matrix}\\right]$,I和F可能混搭出现，不一定I就一定在前面；此时有无穷多个解。\n",
    "- $r<m;r<n$:$R=\\left[\\begin{matrix} I&F\\\\0&0 \\end{matrix}\\right]$,此时有0个或者无穷多个解"
   ]
  },
  {
   "cell_type": "code",
   "execution_count": null,
   "metadata": {},
   "outputs": [],
   "source": []
  }
 ],
 "metadata": {
  "kernelspec": {
   "display_name": "Python [default]",
   "language": "python",
   "name": "python3"
  },
  "language_info": {
   "codemirror_mode": {
    "name": "ipython",
    "version": 3
   },
   "file_extension": ".py",
   "mimetype": "text/x-python",
   "name": "python",
   "nbconvert_exporter": "python",
   "pygments_lexer": "ipython3",
   "version": "3.5.5"
  },
  "toc": {
   "base_numbering": 1,
   "nav_menu": {},
   "number_sections": true,
   "sideBar": true,
   "skip_h1_title": false,
   "title_cell": "Table of Contents",
   "title_sidebar": "Contents",
   "toc_cell": false,
   "toc_position": {},
   "toc_section_display": true,
   "toc_window_display": false
  }
 },
 "nbformat": 4,
 "nbformat_minor": 2
}
