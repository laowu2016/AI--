{
 "cells": [
  {
   "cell_type": "markdown",
   "metadata": {},
   "source": [
    "# 本节重点"
   ]
  },
  {
   "cell_type": "markdown",
   "metadata": {},
   "source": [
    "- 上节未完成内容：\n",
    ">- $AA^{-1}=A^{-1}A$\n",
    ">- 矩阵A、B其逆均已知，那么矩阵A与矩阵B的的积AB乘以什么可以得到单位矩阵，即AB的逆是什么？\n",
    ">>- $ABB^{-1}A^{-1}=I$\n",
    "- 消元矩阵的乘法：A=LU\n",
    "- 转置：如果转置某可逆方阵，那么其转置的逆是什么？\n",
    ">- A的逆的转置，就是A转置的逆；${A^{-1}}^TA^T=I$"
   ]
  },
  {
   "cell_type": "markdown",
   "metadata": {},
   "source": [
    "## A的LU分解\n",
    "- $\\overbrace{\\left[\\begin{matrix}-&-\\\\-&- \\end{matrix}\\right]}^{E_{21}} \\overbrace{\\left[\\begin{matrix}2&1\\\\8&7 \\end{matrix}\\right]}^{A}=\\overbrace{\\left[\\begin{matrix}2&1\\\\0&3 \\end{matrix}\\right]}^{U} ---> E_{21}=\\left[\\begin{matrix}1&0\\\\-4&1 \\end{matrix}\\right]$\n",
    "- 要得到A=LU的形式，则在等式两边同时乘以$E_{21}$的逆，可以得到$A = LU = E_{21}^{-1}U--->\\overbrace{\\left[\\begin{matrix}2&1\\\\8&7 \\end{matrix}\\right]}^{A}=\\overbrace{\\left[\\begin{matrix}1&0\\\\4&1 \\end{matrix}\\right]}^{E_{21}^{-1}(L)} \\overbrace{\\left[\\begin{matrix}2&1\\\\0&3 \\end{matrix}\\right]}^{U}$,其中矩阵L为下三角矩阵，矩阵U为主对角线为主元的上三角矩阵。\n",
    "- 现在分离出U中的主元$\\overbrace{\\left[\\begin{matrix}2&1\\\\8&7 \\end{matrix}\\right]}^{A}=\\overbrace{\\left[\\begin{matrix}1&0\\\\4&1 \\end{matrix}\\right]}^{E_{21}^{-1}(L)} \\overbrace{\\left[\\begin{matrix}2&1\\\\0&3 \\end{matrix}\\right]}^{U} = \\overbrace{\\left[\\begin{matrix}1&0\\\\4&1 \\end{matrix}\\right]}^{E_{21}^{-1}(L)} \\overbrace{\\left[\\begin{matrix}2&0\\\\0&3 \\end{matrix}\\right]}^{D} \\overbrace{\\left[\\begin{matrix}1&1/2\\\\0&1 \\end{matrix}\\right]}^{U} $\n",
    "- $E_{32}E_{31}E_{21}A=U(no row exchange);E_{21}表示此矩阵可消元位置21，以此类推，E_{32}可以消元位置32;A=E_{21}^{-1}E_{31}^{-1}E_{32}^{-1}U=LU$(此处后面的内容不是很懂，为何要将A拆分为LU也不是很懂，L和U分别代表了什么也不懂)\n",
    "- 消元总共要进行多少不操作（为看明白，半节课都讲的这个）"
   ]
  },
  {
   "cell_type": "markdown",
   "metadata": {},
   "source": [
    "## 置换矩阵(并未仔细理解)\n",
    "- 置换矩阵可以用来行行互换，置换矩阵有个性质：$P^{-1}=P^T$"
   ]
  },
  {
   "cell_type": "code",
   "execution_count": null,
   "metadata": {},
   "outputs": [],
   "source": []
  }
 ],
 "metadata": {
  "kernelspec": {
   "display_name": "Python [default]",
   "language": "python",
   "name": "python3"
  },
  "language_info": {
   "codemirror_mode": {
    "name": "ipython",
    "version": 3
   },
   "file_extension": ".py",
   "mimetype": "text/x-python",
   "name": "python",
   "nbconvert_exporter": "python",
   "pygments_lexer": "ipython3",
   "version": "3.5.5"
  },
  "toc": {
   "base_numbering": 1,
   "nav_menu": {},
   "number_sections": true,
   "sideBar": true,
   "skip_h1_title": false,
   "title_cell": "Table of Contents",
   "title_sidebar": "Contents",
   "toc_cell": false,
   "toc_position": {},
   "toc_section_display": true,
   "toc_window_display": false
  }
 },
 "nbformat": 4,
 "nbformat_minor": 2
}
