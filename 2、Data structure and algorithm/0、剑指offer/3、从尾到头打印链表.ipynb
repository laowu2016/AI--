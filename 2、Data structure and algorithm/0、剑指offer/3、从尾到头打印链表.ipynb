{
 "cells": [
  {
   "cell_type": "markdown",
   "metadata": {},
   "source": [
    "# 题目描述\n",
    "- 输入一个链表，按链表从尾到头的顺序返回一个ArrayList。"
   ]
  },
  {
   "cell_type": "code",
   "execution_count": 1,
   "metadata": {},
   "outputs": [],
   "source": [
    "# -*- coding:utf-8 -*-\n",
    "# class ListNode:\n",
    "#     def __init__(self, x):\n",
    "#         self.val = x\n",
    "#         self.next = None\n",
    "\n",
    "class Solution:\n",
    "    # 返回从尾部到头部的列表值序列，例如[1,2,3]\n",
    "    def printListFromTailToHead(self, listNode):\n",
    "        # write code herer\n",
    "        a = []\n",
    "        while listNode:\n",
    "            a.append(listNode.val)\n",
    "            listNode = listNode.next\n",
    "        return a[::-1]"
   ]
  },
  {
   "cell_type": "code",
   "execution_count": null,
   "metadata": {},
   "outputs": [],
   "source": [
    "\"\"\"\n",
    "这个是python的slice notation的特殊用法。\n",
    "a = [0,1,2,3,4,5,6,7,8,9]\n",
    "b = a[i:j] 表示复制a[i]到a[j-1]，以生成新的list对象\n",
    "b = a[1:3] 那么，b的内容是 [1,2]\n",
    "当i缺省时，默认为0，即 a[:3]相当于 a[0:3]\n",
    "当j缺省时，默认为len(alist), 即a[1:]相当于a[1:10]\n",
    "当i,j都缺省时，a[:]就相当于完整复制一份a了\n",
    "b = a[i:j:s]这种格式呢，i,j与上面的一样，但s表示步进，缺省为1.\n",
    "所以a[i:j:1]相当于a[i:j]\n",
    "当s<0时，i缺省时，默认为-1. j缺省时，默认为-len(a)-1\n",
    "所以a[::-1]相当于 a[-1:-len(a)-1:-1]，也就是从最后一个元素到第一个元素复制一遍。所以你看到一个倒序的东东。\n",
    "\"\"\""
   ]
  }
 ],
 "metadata": {
  "kernelspec": {
   "display_name": "Python [default]",
   "language": "python",
   "name": "python3"
  },
  "language_info": {
   "codemirror_mode": {
    "name": "ipython",
    "version": 3
   },
   "file_extension": ".py",
   "mimetype": "text/x-python",
   "name": "python",
   "nbconvert_exporter": "python",
   "pygments_lexer": "ipython3",
   "version": "3.5.5"
  },
  "toc": {
   "base_numbering": 1,
   "nav_menu": {},
   "number_sections": true,
   "sideBar": true,
   "skip_h1_title": false,
   "title_cell": "Table of Contents",
   "title_sidebar": "Contents",
   "toc_cell": false,
   "toc_position": {},
   "toc_section_display": true,
   "toc_window_display": false
  }
 },
 "nbformat": 4,
 "nbformat_minor": 2
}
